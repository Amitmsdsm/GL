{
 "cells": [
  {
   "cell_type": "code",
   "execution_count": 1,
   "id": "bf085eba",
   "metadata": {},
   "outputs": [],
   "source": [
    "import pandas as pd  # library used for data manipulation and analysis\n",
    "import numpy as np  # library used for working with arrays\n",
    "import matplotlib.pyplot as plt  # library for plots and visualizations\n",
    "import seaborn as sns  # library for visualizations\n",
    "from scipy import stats\n",
    "from scipy.stats import norm\n",
    "from scipy.stats import ttest_1samp\n",
    "from statsmodels.formula.api import ols      # For n-way ANOVA\n",
    "from statsmodels.stats.anova import _get_covariance,anova_lm # For n-way ANOVA\n",
    "%matplotlib inline\n",
    "\n"
   ]
  },
  {
   "cell_type": "markdown",
   "id": "7248c165",
   "metadata": {},
   "source": [
    "# Problem 1\n",
    "\n",
    "## A physiotherapist with a male football team is interested in studying the relationship between foot injuries and the positions at which the players play from the data collected\n",
    " \n",
    " \tStriker\tForward\tAttacking Midfielder\tWinger\tTotal\n",
    "    \n",
    "Players Injured\t45\t56\t24\t20\t145\n",
    "Players Not Injured\t32\t38\t11\t9\t90\n",
    "Total\t77\t94\t35\t29\t235\n",
    " \n",
    "### 1.1 What is the probability that a randomly chosen player would suffer an injury?\n",
    "### 1.2 What is the probability that a player is a forward or a winger?\n",
    "### 1.3 What is the probability that a randomly chosen player plays in a striker position and has a foot injury?\n",
    "### 1.4 What is the probability that a randomly chosen injured player is a striker?\n",
    "### 1.5 What is the probability that a randomly chosen injured player is either a forward or an attacking midfielder? \n",
    " \n"
   ]
  },
  {
   "cell_type": "markdown",
   "id": "64c231cd",
   "metadata": {},
   "source": [
    "### 1.1 What is the probability that a randomly chosen player would suffer an injury?"
   ]
  },
  {
   "cell_type": "markdown",
   "id": "f7a103a7",
   "metadata": {},
   "source": [
    "Players suffering from injury = 145\n",
    "Total Number of players = 235"
   ]
  },
  {
   "cell_type": "code",
   "execution_count": 2,
   "id": "fe705d67",
   "metadata": {},
   "outputs": [
    {
     "name": "stdout",
     "output_type": "stream",
     "text": [
      "Randomly Choosen Player would suffer injury is 0.62\n"
     ]
    }
   ],
   "source": [
    "prob_random_injury = 145/235\n",
    "print('Randomly Choosen Player would suffer injury is', round(prob_random_injury,2))"
   ]
  },
  {
   "cell_type": "markdown",
   "id": "57f7d6bd",
   "metadata": {},
   "source": [
    "### 1.2 What is the probability that a player is a forward or a winger?"
   ]
  },
  {
   "cell_type": "markdown",
   "id": "0591bbb3",
   "metadata": {},
   "source": [
    "Total number of forward player = 94\n",
    "Total number of winger player = 29\n",
    "Total number of player = 235"
   ]
  },
  {
   "cell_type": "code",
   "execution_count": 3,
   "id": "4d7daa9b",
   "metadata": {},
   "outputs": [
    {
     "name": "stdout",
     "output_type": "stream",
     "text": [
      "Probability of choosen player is forward or a winger is 0.52\n"
     ]
    }
   ],
   "source": [
    "prob_forward_or_winger = (94/235)+(29/235)\n",
    "print('Probability of choosen player is forward or a winger is',round(prob_forward_or_winger,2))"
   ]
  },
  {
   "cell_type": "markdown",
   "id": "b0e45b77",
   "metadata": {},
   "source": [
    "### 1.3 What is the probability that a randomly chosen player plays in a striker position and has a foot injury?\n"
   ]
  },
  {
   "cell_type": "markdown",
   "id": "1d283ece",
   "metadata": {},
   "source": [
    "Player having foot injury is of striker position = 45\n",
    "Total number of players = 235\n"
   ]
  },
  {
   "cell_type": "code",
   "execution_count": 4,
   "id": "be2ed1b9",
   "metadata": {},
   "outputs": [
    {
     "name": "stdout",
     "output_type": "stream",
     "text": [
      "Probability of randomly chosen players playing in striker position and has a foot injury is 0.19\n"
     ]
    }
   ],
   "source": [
    "prob_striker_foot_injury = 45/235\n",
    "print('Probability of randomly chosen players playing in striker position and has a foot injury is',round(prob_striker_foot_injury ,2))"
   ]
  },
  {
   "cell_type": "markdown",
   "id": "b92372ba",
   "metadata": {},
   "source": [
    "### 1.4 What is the probability that a randomly chosen injured player is a striker?"
   ]
  },
  {
   "cell_type": "markdown",
   "id": "2f98250d",
   "metadata": {},
   "source": [
    "Player in striker position and is injured = 45\n",
    "Total number of injured player = 145"
   ]
  },
  {
   "cell_type": "code",
   "execution_count": 5,
   "id": "7ab691fc",
   "metadata": {},
   "outputs": [
    {
     "name": "stdout",
     "output_type": "stream",
     "text": [
      "Probability that a randomly choosen injured player is striker is 0.31\n"
     ]
    }
   ],
   "source": [
    "prob_injuredplayer_striker = 45/145\n",
    "print('Probability that a randomly choosen injured player is striker is',round(prob_injuredplayer_striker,2))"
   ]
  },
  {
   "cell_type": "markdown",
   "id": "b38bad6b",
   "metadata": {},
   "source": [
    "### 1.5 What is the probability that a randomly chosen injured player is either a forward or an attacking midfielder? "
   ]
  },
  {
   "cell_type": "markdown",
   "id": "e5b84305",
   "metadata": {},
   "source": [
    "Injured player is forward = 56\n",
    "Injured player is attacking midfielder = 24\n",
    "Total number of injured player = 145"
   ]
  },
  {
   "cell_type": "code",
   "execution_count": 6,
   "id": "e97ff457",
   "metadata": {},
   "outputs": [
    {
     "name": "stdout",
     "output_type": "stream",
     "text": [
      "Probability of randomly choosen injured player is either a forward or an attacking midfielder is 0.55\n"
     ]
    }
   ],
   "source": [
    "prob_injured_forward_attackingmidfielder= (56/145)+(24/145)\n",
    "print('Probability of randomly choosen injured player is either a forward or an attacking midfielder is',round(prob_injured_forward_attackingmidfielder,2))"
   ]
  },
  {
   "cell_type": "markdown",
   "id": "561c0db7",
   "metadata": {},
   "source": [
    "## Problem 2\n",
    "### An independent research organization is trying to estimate the probability that an accident at a nuclear power plant will result in radiation leakage. The types of accidents possible at the plant are, fire hazards, mechanical failure, or human error. The research organization also knows that two or more types of accidents cannot occur simultaneously.\n",
    "### According to the studies carried out by the organization, the probability of a radiation leak in case of a fire is 20%, the probability of a radiation leak in case of a mechanical 50%, and the probability of a radiation leak in case of a human error is 10%. The studies also showed the following;\n",
    "### •\tThe probability of a radiation leak occurring simultaneously with a fire is 0.1%.\n",
    "### •\tThe probability of a radiation leak occurring simultaneously with a mechanical failure is 0.15%.\n",
    "### •\tThe probability of a radiation leak occurring simultaneously with a human error is 0.12%.\n",
    "\n",
    "### On the basis of the information available, answer the questions below:\n",
    "\n",
    "### 2.1 What are the probabilities of a fire, a mechanical failure, and a human error respectively?\n",
    "### 2.2 What is the probability of a radiation leak?\n",
    "### 2.3 Suppose there has been a radiation leak in the reactor for which the definite cause is not known. What is the probability that it has been caused by:\n",
    "### •\tA Fire.\n",
    "### •\tA Mechanical Failure.\n",
    "### •\tA Human Error.\n",
    " \n"
   ]
  },
  {
   "cell_type": "markdown",
   "id": "3f86c1e7",
   "metadata": {},
   "source": [
    "### 2.1 What are the probabilities of a fire, a mechanical failure, and a human error respectively?"
   ]
  },
  {
   "cell_type": "code",
   "execution_count": 7,
   "id": "a9b7769d",
   "metadata": {},
   "outputs": [
    {
     "name": "stdout",
     "output_type": "stream",
     "text": [
      "Probability of fire is 0.2\n",
      "Probability of mechanical faliure is 0.5\n",
      "probability of human error is 0.1\n"
     ]
    }
   ],
   "source": [
    "p_fire = 20/100\n",
    "p_mech = 50/100\n",
    "p_human = 10/100\n",
    "\n",
    "print('Probability of fire is', p_fire)\n",
    "print ('Probability of mechanical faliure is', p_mech)\n",
    "print ('probability of human error is', p_human)"
   ]
  },
  {
   "cell_type": "markdown",
   "id": "11c88193",
   "metadata": {},
   "source": [
    "### 2.2 What is the probability of a radiation leak?"
   ]
  },
  {
   "cell_type": "code",
   "execution_count": 8,
   "id": "41ecd085",
   "metadata": {},
   "outputs": [
    {
     "name": "stdout",
     "output_type": "stream",
     "text": [
      "Probability of radiation leak is 0.00107\n"
     ]
    }
   ],
   "source": [
    "p_radiation_fire= 0.1/100\n",
    "p_radiation_mech = 0.15/100\n",
    "p_radiation_human = 0.12/100\n",
    "\n",
    "p_radiation = (p_fire*p_radiation_fire)+(p_mech*p_radiation_mech)+(p_human*p_radiation_human)\n",
    "print('Probability of radiation leak is',p_radiation)"
   ]
  },
  {
   "cell_type": "markdown",
   "id": "eb1f1da4",
   "metadata": {},
   "source": [
    "### 2.3 Suppose there has been a radiation leak in the reactor for which the definite cause is not known. What is the probability that it has been caused by:\n",
    "### •\tA Fire.\n",
    "### •\tA Mechanical Failure.\n",
    "### •\tA Human Error.\n"
   ]
  },
  {
   "cell_type": "code",
   "execution_count": 9,
   "id": "64241697",
   "metadata": {},
   "outputs": [
    {
     "name": "stdout",
     "output_type": "stream",
     "text": [
      "Probability radiation leak caused by fire is 0.19\n",
      "Probability radiation leak caused by mechanical faliure is 0.7\n",
      "Probability radiation leak caused by human error is 0.11\n"
     ]
    }
   ],
   "source": [
    "p_fire_radiation= (p_fire*p_radiation_fire)/p_radiation\n",
    "p_mech_radiation=(p_mech*p_radiation_mech)/p_radiation\n",
    "p_human_radiation=(p_human*p_radiation_human)/p_radiation\n",
    "print('Probability radiation leak caused by fire is',round(p_fire_radiation,2))\n",
    "print('Probability radiation leak caused by mechanical faliure is',round(p_mech_radiation,2))\n",
    "print('Probability radiation leak caused by human error is',round(p_human_radiation,2))"
   ]
  },
  {
   "cell_type": "markdown",
   "id": "b4961954",
   "metadata": {},
   "source": [
    "## Problem 3:\n",
    "\n",
    "### The breaking strength of gunny bags used for packaging cement is normally distributed with a mean of 5 kg per sq. centimeter and a standard deviation of 1.5 kg per sq. centimeter. The quality team of the cement company wants to know the following about the packaging material to better understand wastage or pilferage within the supply chain; Answer the questions below based on the given information; (Provide an appropriate visual representation of your answers, without which marks will be deducted)\n",
    "\n",
    "### 3.1 What proportion of the gunny bags have a breaking strength less than 3.17 kg per sq cm?\n",
    "### 3.2 What proportion of the gunny bags have a breaking strength at least 3.6 kg per sq cm.?\n",
    "### 3.3 What proportion of the gunny bags have a breaking strength between 5 and 5.5 kg per sq cm.?\n",
    "### 3.4 What proportion of the gunny bags have a breaking strength NOT between 3 and 7.5 kg per sq cm.?\n",
    " \n"
   ]
  },
  {
   "cell_type": "markdown",
   "id": "ae52722f",
   "metadata": {},
   "source": [
    "### 3.1 What proportion of the gunny bags have a breaking strength less than 3.17 kg per sq cm?\n"
   ]
  },
  {
   "cell_type": "code",
   "execution_count": 10,
   "id": "0f3d1d3e",
   "metadata": {},
   "outputs": [
    {
     "name": "stdout",
     "output_type": "stream",
     "text": [
      "proportion of the gunny bags have a breaking strength less than 3.17 kg per sq cm is 0.111\n"
     ]
    }
   ],
   "source": [
    "mu = 5\n",
    "sigma = 1.5\n",
    "prob_lessthan_317 = stats.norm.cdf(3.17,loc=mu,scale=sigma)\n",
    "print('proportion of the gunny bags have a breaking strength less than 3.17 kg per sq cm is', round(prob_lessthan_317,3))"
   ]
  },
  {
   "cell_type": "code",
   "execution_count": 11,
   "id": "b0d4b41e",
   "metadata": {},
   "outputs": [
    {
     "data": {
      "image/png": "[encoded data removed]",
      "text/plain": [
       "<Figure size 1440x504 with 1 Axes>"
      ]
     },
     "metadata": {
      "needs_background": "light"
     },
     "output_type": "display_data"
    }
   ],
   "source": [
    "x = np.linspace(0, 10, 100)\n",
    "plt.figure(figsize=(20,7))\n",
    "plt.plot(x, norm.pdf(x, loc = 5, scale = 1.5), color = 'b')\n",
    "plt.title('Normal Distribution of Breaking Strength of Gunny Bag', fontsize = 15)\n",
    "plt.xlabel('Breaking Strength',fontsize = 12)\n",
    "plt.ylabel('Probability', fontsize = 12)\n",
    "plt.axvline(3.17, ymax = 1, linestyle = '--', color = 'green')\n",
    "plt.xticks([0,0.5,1,1.5,2,2.5,3,3.5,4,4.5,5,5.5,6,6.5,7,7.5,8,8.5,9,9.5,10]);"
   ]
  },
  {
   "cell_type": "markdown",
   "id": "392b1b06",
   "metadata": {},
   "source": [
    "### 3.2 What proportion of the gunny bags have a breaking strength at least 3.6 kg per sq cm.?"
   ]
  },
  {
   "cell_type": "code",
   "execution_count": 12,
   "id": "14839ea9",
   "metadata": {},
   "outputs": [
    {
     "name": "stdout",
     "output_type": "stream",
     "text": [
      "proportion of the gunny bags have a breaking strength at least 3.6 kg per sq cm is 0.825\n"
     ]
    }
   ],
   "source": [
    "mu = 5\n",
    "sigma = 1.5\n",
    "prob_atleast_36 =1- stats.norm.cdf(3.6,loc=mu,scale=sigma)\n",
    "print('proportion of the gunny bags have a breaking strength at least 3.6 kg per sq cm is', round(prob_atleast_36,3))"
   ]
  },
  {
   "cell_type": "code",
   "execution_count": 13,
   "id": "75b964b1",
   "metadata": {},
   "outputs": [
    {
     "data": {
      "image/png": "[encoded data removed]",
      "text/plain": [
       "<Figure size 1440x504 with 1 Axes>"
      ]
     },
     "metadata": {
      "needs_background": "light"
     },
     "output_type": "display_data"
    }
   ],
   "source": [
    "x = np.linspace(0, 10, 100)\n",
    "plt.figure(figsize=(20,7))\n",
    "plt.plot(x, norm.pdf(x, loc = 5, scale = 1.5), color = 'b')\n",
    "plt.title('Normal Distribution of Breaking Strength of Gunny Bag', fontsize = 15)\n",
    "plt.xlabel('Breaking Strength',fontsize = 12)\n",
    "plt.ylabel('Probability',fontsize = 12)\n",
    "plt.axvline(3.6, ymax = 1, linestyle = '--', color = 'green')\n",
    "plt.xticks([0,0.5,1,1.5,2,2.5,3,3.5,4,4.5,5,5.5,6,6.5,7,7.5,8,8.5,9,9.5,10]);"
   ]
  },
  {
   "cell_type": "markdown",
   "id": "71461936",
   "metadata": {},
   "source": [
    "### 3.3 What proportion of the gunny bags have a breaking strength between 5 and 5.5 kg per sq cm.?\n"
   ]
  },
  {
   "cell_type": "code",
   "execution_count": 14,
   "id": "a6fe8229",
   "metadata": {},
   "outputs": [
    {
     "name": "stdout",
     "output_type": "stream",
     "text": [
      "proportion of the gunny bags have a breaking strength between 5 and 5.5 kg per sq cm is 0.131\n"
     ]
    }
   ],
   "source": [
    "mu = 5\n",
    "sigma = 1.5\n",
    "prob_less_5 =stats.norm.cdf(5,loc=mu,scale=sigma)\n",
    "prob_lessthan_55 =stats.norm.cdf(5.5,loc=mu,scale=sigma)\n",
    "prob_between_5and55=prob_lessthan_55-prob_less_5\n",
    "\n",
    "print('proportion of the gunny bags have a breaking strength between 5 and 5.5 kg per sq cm is', round(prob_between_5and55,3))"
   ]
  },
  {
   "cell_type": "code",
   "execution_count": 15,
   "id": "5d441344",
   "metadata": {},
   "outputs": [
    {
     "data": {
      "image/png": "[encoded data removed]",
      "text/plain": [
       "<Figure size 1440x504 with 1 Axes>"
      ]
     },
     "metadata": {
      "needs_background": "light"
     },
     "output_type": "display_data"
    }
   ],
   "source": [
    "x = np.linspace(0, 10, 100)\n",
    "plt.figure(figsize=(20,7))\n",
    "plt.plot(x, norm.pdf(x, loc = 5, scale = 1.5), color = 'b')\n",
    "plt.title('Normal Distribution of Breaking Strength of Gunny Bag',fontsize = 15)\n",
    "plt.xlabel('Breaking Strength',fontsize = 12)\n",
    "plt.ylabel('Probability',fontsize = 12)\n",
    "plt.axvline(5, ymax = 1, linestyle = '--', color = 'green')\n",
    "plt.axvline(5.5, ymax = 1, linestyle = '--', color = 'green')\n",
    "plt.xticks([0,0.5,1,1.5,2,2.5,3,3.5,4,4.5,5,5.5,6,6.5,7,7.5,8,8.5,9,9.5,10]);"
   ]
  },
  {
   "cell_type": "markdown",
   "id": "9c6940aa",
   "metadata": {},
   "source": [
    "### 3.4 What proportion of the gunny bags have a breaking strength NOT between 3 and 7.5 kg per sq cm.?"
   ]
  },
  {
   "cell_type": "code",
   "execution_count": 16,
   "id": "c841cee6",
   "metadata": {},
   "outputs": [
    {
     "name": "stdout",
     "output_type": "stream",
     "text": [
      "proportion of the gunny bags have a breaking strength less than 3 kg per sq cm is 0.091\n",
      "proportion of the gunny bags have a breaking strength less than 7.5 kg per sq cm is 0.048\n"
     ]
    }
   ],
   "source": [
    "mu = 5\n",
    "sigma = 1.5\n",
    "prob_lessthan_3 =stats.norm.cdf(3,loc=mu,scale=sigma)\n",
    "print('proportion of the gunny bags have a breaking strength less than 3 kg per sq cm is', round(prob_lessthan_3,3))\n",
    "prob_morethan_75 =1-stats.norm.cdf(7.5,loc=mu,scale=sigma)\n",
    "print('proportion of the gunny bags have a breaking strength less than 7.5 kg per sq cm is', round(prob_morethan_75,3))"
   ]
  },
  {
   "cell_type": "code",
   "execution_count": 17,
   "id": "f5692611",
   "metadata": {},
   "outputs": [
    {
     "name": "stdout",
     "output_type": "stream",
     "text": [
      "proportion of the gunny bags have a breaking strength NOT between 3 and 7.5 kg per sq cm is 0.861\n"
     ]
    }
   ],
   "source": [
    "prob_not_between_3_75= 1-(prob_morethan_75+prob_lessthan_3)\n",
    "print('proportion of the gunny bags have a breaking strength NOT between 3 and 7.5 kg per sq cm is', round(prob_not_between_3_75,3))"
   ]
  },
  {
   "cell_type": "code",
   "execution_count": 18,
   "id": "e1a1385a",
   "metadata": {},
   "outputs": [
    {
     "data": {
      "image/png": "[encoded data removed]",
      "text/plain": [
       "<Figure size 1440x504 with 1 Axes>"
      ]
     },
     "metadata": {
      "needs_background": "light"
     },
     "output_type": "display_data"
    }
   ],
   "source": [
    "x = np.linspace(0, 10, 100)\n",
    "plt.figure(figsize=(20,7))\n",
    "plt.plot(x, norm.pdf(x, loc = 5, scale = 1.5), color = 'b')\n",
    "plt.title('Normal Distribution of Breaking Strength of Gunny Bag',fontsize = 15)\n",
    "plt.xlabel('Breaking Strength',fontsize = 12)\n",
    "plt.ylabel('Probability',fontsize = 12)\n",
    "plt.axvline(3, ymax = 1, linestyle = '--', color = 'green')\n",
    "plt.axvline(7.5, ymax = 1, linestyle = '--', color = 'green')\n",
    "plt.xticks([0,0.5,1,1.5,2,2.5,3,3.5,4,4.5,5,5.5,6,6.5,7,7.5,8,8.5,9,9.5,10]);"
   ]
  },
  {
   "cell_type": "markdown",
   "id": "b7c411b7",
   "metadata": {},
   "source": [
    " \n",
    "## Problem 4:\n",
    " \n",
    "### Grades of the final examination in a training course are found to be normally distributed, with a mean of 77 and a standard deviation of 8.5. Based on the given information answer the questions below.\n",
    " \n",
    "### 4.1 What is the probability that a randomly chosen student gets a grade below 85 on this exam?\n",
    "### 4.2 What is the probability that a randomly selected student scores between 65 and 87?\n",
    "### 4.3 What should be the passing cut-off so that 75% of the students clear the exam?\n"
   ]
  },
  {
   "cell_type": "markdown",
   "id": "dfed4173",
   "metadata": {},
   "source": [
    "### 4.1 What is the probability that a randomly chosen student gets a grade below 85 on this exam?\n"
   ]
  },
  {
   "cell_type": "code",
   "execution_count": 20,
   "id": "69840291",
   "metadata": {},
   "outputs": [
    {
     "name": "stdout",
     "output_type": "stream",
     "text": [
      "probability that a randomly chosen student gets a grade below 85 is 0.827\n"
     ]
    }
   ],
   "source": [
    "mu = 77\n",
    "sigma = 8.5\n",
    "prob_lessthan_85 =stats.norm.cdf(85,loc=mu,scale=sigma)\n",
    "print('probability that a randomly chosen student gets a grade below 85 is', round(prob_lessthan_85,3))"
   ]
  },
  {
   "cell_type": "code",
   "execution_count": 21,
   "id": "fc4ace66",
   "metadata": {},
   "outputs": [
    {
     "data": {
      "image/png": "[encoded data removed]",
      "text/plain": [
       "<Figure size 1440x504 with 1 Axes>"
      ]
     },
     "metadata": {
      "needs_background": "light"
     },
     "output_type": "display_data"
    }
   ],
   "source": [
    "x = np.linspace(45, 110, 100)\n",
    "plt.figure(figsize=(20,7))\n",
    "plt.plot(x, norm.pdf(x, loc = 77, scale = 8.5), color = 'b')\n",
    "plt.title('Student Marks Distribution',fontsize = 15)\n",
    "plt.xlabel('Marks',fontsize = 12)\n",
    "plt.ylabel('Probability',fontsize = 12)\n",
    "plt.axvline(85, ymax = 1, linestyle = '--', color = 'green')\n",
    "plt.xticks([45,50,55,60,65,70,75,80,85,90,95,100,105]);"
   ]
  },
  {
   "cell_type": "markdown",
   "id": "9a25f0e8",
   "metadata": {},
   "source": [
    "### 4.2 What is the probability that a randomly selected student scores between 65 and 87"
   ]
  },
  {
   "cell_type": "code",
   "execution_count": 22,
   "id": "4273745f",
   "metadata": {},
   "outputs": [
    {
     "name": "stdout",
     "output_type": "stream",
     "text": [
      "probability that a randomly chosen student gets a grade below 87 is 0.88\n",
      "probability that a randomly chosen student gets a grade below 65 is 0.079\n",
      "probability that a randomly selected student scores between 65 and 87 is 0.801\n"
     ]
    }
   ],
   "source": [
    "mu = 77\n",
    "sigma = 8.5\n",
    "prob_lessthan_87 =stats.norm.cdf(87,loc=mu,scale=sigma)\n",
    "print('probability that a randomly chosen student gets a grade below 87 is', round(prob_lessthan_87,3))\n",
    "prob_lessthan_65 =stats.norm.cdf(65,loc=mu,scale=sigma)\n",
    "print('probability that a randomly chosen student gets a grade below 65 is', round(prob_lessthan_65,3))\n",
    "prob_between_85_65=prob_lessthan_87-prob_lessthan_65\n",
    "print('probability that a randomly selected student scores between 65 and 87 is', round(prob_between_85_65,3))"
   ]
  },
  {
   "cell_type": "code",
   "execution_count": 23,
   "id": "3f0412b6",
   "metadata": {},
   "outputs": [
    {
     "data": {
      "image/png": "[encoded data removed]",
      "text/plain": [
       "<Figure size 1440x504 with 1 Axes>"
      ]
     },
     "metadata": {
      "needs_background": "light"
     },
     "output_type": "display_data"
    }
   ],
   "source": [
    "x = np.linspace(45, 110, 100)\n",
    "plt.figure(figsize=(20,7))\n",
    "plt.plot(x, norm.pdf(x, loc = 77, scale = 8.5), color = 'b')\n",
    "plt.title('Student Marks Distribution',fontsize= 15)\n",
    "plt.xlabel('Marks',fontsize= 12)\n",
    "plt.ylabel('Probability',fontsize= 12)\n",
    "plt.axvline(87, ymax = 1, linestyle = '--', color = 'green')\n",
    "plt.axvline(65, ymax = 1, linestyle = '--', color = 'green')\n",
    "plt.xticks([45,50,55,60,65,70,75,80,85,90,95,100,105]);"
   ]
  },
  {
   "cell_type": "markdown",
   "id": "ce66bdf2",
   "metadata": {},
   "source": [
    "### 4.3 What should be the passing cut-off so that 75% of the students clear the exam?"
   ]
  },
  {
   "cell_type": "code",
   "execution_count": 24,
   "id": "d863a952",
   "metadata": {},
   "outputs": [
    {
     "name": "stdout",
     "output_type": "stream",
     "text": [
      "The passing cut-off so that 75% of students clear the exam is  71.2668371233333\n"
     ]
    }
   ],
   "source": [
    "mu = 77\n",
    "sigma = 8.5\n",
    "score_75th_percentile =stats.norm.ppf(0.25,loc=mu,scale=sigma)\n",
    "print(\"The passing cut-off so that 75% of students clear the exam is \", score_75th_percentile)"
   ]
  },
  {
   "cell_type": "code",
   "execution_count": 25,
   "id": "4af22437",
   "metadata": {},
   "outputs": [
    {
     "data": {
      "image/png": "[encoded data removed]",
      "text/plain": [
       "<Figure size 1440x504 with 1 Axes>"
      ]
     },
     "metadata": {
      "needs_background": "light"
     },
     "output_type": "display_data"
    }
   ],
   "source": [
    "x = np.linspace(45, 110, 100)\n",
    "plt.figure(figsize=(20,7))\n",
    "plt.plot(x, norm.pdf(x, loc = 77, scale = 8.5), color = 'b')\n",
    "plt.title('Student Marks Distribution',fontsize=15)\n",
    "plt.xlabel('Marks',fontsize=12)\n",
    "plt.ylabel('Probability',fontsize=12)\n",
    "plt.axvline(71.26, ymax = 1, linestyle = '--', color = 'green')\n",
    "plt.xticks([45,50,55,60,65,70,75,80,85,90,95,100,105]);"
   ]
  },
  {
   "cell_type": "markdown",
   "id": "0df9f3f3",
   "metadata": {},
   "source": [
    "\n",
    "## Problem 5:\n",
    "\n",
    "### Zingaro stone printing is a company that specializes in printing images or patterns on polished or unpolished stones. However, for the optimum level of printing of the image the stone surface has to have a Brinell's hardness index of at least 150. Recently, Zingaro has received a batch of polished and unpolished stones from its clients. Use the data provided to answer the following (assuming a 5% significance level);\n",
    " \n",
    "### 5.1 Earlier experience of Zingaro with this particular client is favorable as the stone surface was found to be of adequate hardness. However, Zingaro has reason to believe now that the unpolished stones may not be suitable for printing. Do you think Zingaro is justified in thinking so?\n",
    "### 5.2 Is the mean hardness of the polished and unpolished stones the same?\n"
   ]
  },
  {
   "cell_type": "markdown",
   "id": "aa707b70",
   "metadata": {},
   "source": [
    "### 5.1 Earlier experience of Zingaro with this particular client is favorable as the stone surface was found to be of adequate hardness. However, Zingaro has reason to believe now that the unpolished stones may not be suitable for printing. Do you think Zingaro is justified in thinking so?"
   ]
  },
  {
   "cell_type": "code",
   "execution_count": 26,
   "id": "e1c54cde",
   "metadata": {},
   "outputs": [],
   "source": [
    "df=pd.read_csv('Zingaro_Company.csv')"
   ]
  },
  {
   "cell_type": "code",
   "execution_count": 27,
   "id": "9d4bcd61",
   "metadata": {},
   "outputs": [
    {
     "data": {
      "text/html": [
       "<div>\n",
       "<style scoped>\n",
       "    .dataframe tbody tr th:only-of-type {\n",
       "        vertical-align: middle;\n",
       "    }\n",
       "\n",
       "    .dataframe tbody tr th {\n",
       "        vertical-align: top;\n",
       "    }\n",
       "\n",
       "    .dataframe thead th {\n",
       "        text-align: right;\n",
       "    }\n",
       "</style>\n",
       "<table border=\"1\" class=\"dataframe\">\n",
       "  <thead>\n",
       "    <tr style=\"text-align: right;\">\n",
       "      <th></th>\n",
       "      <th>Unpolished</th>\n",
       "      <th>Treated and Polished</th>\n",
       "    </tr>\n",
       "  </thead>\n",
       "  <tbody>\n",
       "    <tr>\n",
       "      <th>0</th>\n",
       "      <td>164.481713</td>\n",
       "      <td>133.209393</td>\n",
       "    </tr>\n",
       "    <tr>\n",
       "      <th>1</th>\n",
       "      <td>154.307045</td>\n",
       "      <td>138.482771</td>\n",
       "    </tr>\n",
       "    <tr>\n",
       "      <th>2</th>\n",
       "      <td>129.861048</td>\n",
       "      <td>159.665201</td>\n",
       "    </tr>\n",
       "    <tr>\n",
       "      <th>3</th>\n",
       "      <td>159.096184</td>\n",
       "      <td>145.663528</td>\n",
       "    </tr>\n",
       "    <tr>\n",
       "      <th>4</th>\n",
       "      <td>135.256748</td>\n",
       "      <td>136.789227</td>\n",
       "    </tr>\n",
       "  </tbody>\n",
       "</table>\n",
       "</div>"
      ],
      "text/plain": [
       "   Unpolished   Treated and Polished\n",
       "0   164.481713            133.209393\n",
       "1   154.307045            138.482771\n",
       "2   129.861048            159.665201\n",
       "3   159.096184            145.663528\n",
       "4   135.256748            136.789227"
      ]
     },
     "execution_count": 27,
     "metadata": {},
     "output_type": "execute_result"
    }
   ],
   "source": [
    "df.head()"
   ]
  },
  {
   "cell_type": "code",
   "execution_count": 28,
   "id": "61b86bdf",
   "metadata": {},
   "outputs": [
    {
     "data": {
      "text/html": [
       "<div>\n",
       "<style scoped>\n",
       "    .dataframe tbody tr th:only-of-type {\n",
       "        vertical-align: middle;\n",
       "    }\n",
       "\n",
       "    .dataframe tbody tr th {\n",
       "        vertical-align: top;\n",
       "    }\n",
       "\n",
       "    .dataframe thead th {\n",
       "        text-align: right;\n",
       "    }\n",
       "</style>\n",
       "<table border=\"1\" class=\"dataframe\">\n",
       "  <thead>\n",
       "    <tr style=\"text-align: right;\">\n",
       "      <th></th>\n",
       "      <th>Unpolished</th>\n",
       "      <th>Treated and Polished</th>\n",
       "    </tr>\n",
       "  </thead>\n",
       "  <tbody>\n",
       "    <tr>\n",
       "      <th>count</th>\n",
       "      <td>75.000000</td>\n",
       "      <td>75.000000</td>\n",
       "    </tr>\n",
       "    <tr>\n",
       "      <th>mean</th>\n",
       "      <td>134.110527</td>\n",
       "      <td>147.788117</td>\n",
       "    </tr>\n",
       "    <tr>\n",
       "      <th>std</th>\n",
       "      <td>33.041804</td>\n",
       "      <td>15.587355</td>\n",
       "    </tr>\n",
       "    <tr>\n",
       "      <th>min</th>\n",
       "      <td>48.406838</td>\n",
       "      <td>107.524167</td>\n",
       "    </tr>\n",
       "    <tr>\n",
       "      <th>25%</th>\n",
       "      <td>115.329753</td>\n",
       "      <td>138.268300</td>\n",
       "    </tr>\n",
       "    <tr>\n",
       "      <th>50%</th>\n",
       "      <td>135.597121</td>\n",
       "      <td>145.721322</td>\n",
       "    </tr>\n",
       "    <tr>\n",
       "      <th>75%</th>\n",
       "      <td>158.215098</td>\n",
       "      <td>157.373318</td>\n",
       "    </tr>\n",
       "    <tr>\n",
       "      <th>max</th>\n",
       "      <td>200.161313</td>\n",
       "      <td>192.272856</td>\n",
       "    </tr>\n",
       "  </tbody>\n",
       "</table>\n",
       "</div>"
      ],
      "text/plain": [
       "       Unpolished   Treated and Polished\n",
       "count    75.000000             75.000000\n",
       "mean    134.110527            147.788117\n",
       "std      33.041804             15.587355\n",
       "min      48.406838            107.524167\n",
       "25%     115.329753            138.268300\n",
       "50%     135.597121            145.721322\n",
       "75%     158.215098            157.373318\n",
       "max     200.161313            192.272856"
      ]
     },
     "execution_count": 28,
     "metadata": {},
     "output_type": "execute_result"
    }
   ],
   "source": [
    "df.describe()"
   ]
  },
  {
   "cell_type": "markdown",
   "id": "c4354b95",
   "metadata": {},
   "source": [
    "### Null Hyothesis Ho: Unpolished Stones are suitable for printing i.e hardness index is greater than 150\n",
    "### Alternate Hypothesis Ha: Unploished Stones are not suitable for printing i.e hardness index is less than 150"
   ]
  },
  {
   "cell_type": "code",
   "execution_count": 29,
   "id": "bf84b923",
   "metadata": {
    "scrolled": true
   },
   "outputs": [
    {
     "name": "stdout",
     "output_type": "stream",
     "text": [
      "The Mean of Unpolished Diamond is 134.11052653373335\n",
      "The Standard Deviation of Unpolished Diamond is 33.0418044136061\n"
     ]
    }
   ],
   "source": [
    "unpolished_mean = df['Unpolished '].mean()\n",
    "print ('The Mean of Unpolished Diamond is', unpolished_mean)\n",
    "unpolished_std = df['Unpolished '].std()\n",
    "print ('The Standard Deviation of Unpolished Diamond is', unpolished_std)"
   ]
  },
  {
   "cell_type": "code",
   "execution_count": 30,
   "id": "9c62cc0c",
   "metadata": {},
   "outputs": [
    {
     "name": "stdout",
     "output_type": "stream",
     "text": [
      "t_statistic=-4.165 and pvalue=4.17e-05\n"
     ]
    }
   ],
   "source": [
    "t_statistics,p_value1=stats.ttest_1samp(df['Unpolished '],popmean=150)\n",
    "p_value=p_value1/2\n",
    "print('t_statistic={} and pvalue={}'.format(round(t_statistics,3),round(p_value,7)))"
   ]
  },
  {
   "cell_type": "code",
   "execution_count": 31,
   "id": "71ba4b89",
   "metadata": {},
   "outputs": [],
   "source": [
    "alpha=0.05"
   ]
  },
  {
   "cell_type": "code",
   "execution_count": 32,
   "id": "a3185fba",
   "metadata": {},
   "outputs": [
    {
     "name": "stdout",
     "output_type": "stream",
     "text": [
      "we reject null hypothesis\n"
     ]
    }
   ],
   "source": [
    "if(p_value<alpha):\n",
    "    print('we reject null hypothesis')\n",
    "else:\n",
    "    print('we fail to reject null hypothesis')"
   ]
  },
  {
   "cell_type": "markdown",
   "id": "e4d70bdd",
   "metadata": {},
   "source": [
    "### 5.2 Is the mean hardness of the polished and unpolished stones the same?"
   ]
  },
  {
   "cell_type": "markdown",
   "id": "8d97b4f9",
   "metadata": {},
   "source": [
    "### Null Hypothesis Ho:The mean hardness of the polished and unpolished stones is same\n",
    "### Alternate Hypothesis: The Mean hardness of the polished and unploished stones is not same"
   ]
  },
  {
   "cell_type": "code",
   "execution_count": 33,
   "id": "3a804c72",
   "metadata": {},
   "outputs": [
    {
     "name": "stdout",
     "output_type": "stream",
     "text": [
      "The Mean of unploished diamond is 134.11052653373335 whereas the mean of treated and polished diamond is 147.78811718133335\n"
     ]
    }
   ],
   "source": [
    "x1_mean=df['Unpolished '].mean()\n",
    "x2_mean=df['Treated and Polished'].mean()\n",
    "print('The Mean of unploished diamond is {} whereas the mean of treated and polished diamond is {}'.format(x1_mean,x2_mean))"
   ]
  },
  {
   "cell_type": "code",
   "execution_count": 34,
   "id": "ee483963",
   "metadata": {},
   "outputs": [
    {
     "name": "stdout",
     "output_type": "stream",
     "text": [
      "t_staistics=-3.242 and pvalue=0.001\n"
     ]
    }
   ],
   "source": [
    "t_statistics,p_value1=stats.ttest_ind(df['Unpolished '],df['Treated and Polished'])\n",
    "p_value=p_value1/2\n",
    "print('t_staistics={} and pvalue={}'.format(round(t_statistics,3),round(p_value,3)))"
   ]
  },
  {
   "cell_type": "code",
   "execution_count": 35,
   "id": "29e8c33a",
   "metadata": {},
   "outputs": [],
   "source": [
    "alpha = 0.05"
   ]
  },
  {
   "cell_type": "code",
   "execution_count": 36,
   "id": "a0a84e22",
   "metadata": {},
   "outputs": [
    {
     "name": "stdout",
     "output_type": "stream",
     "text": [
      "we reject Null Hypothesis. The mean hardness of the polished and unpolished stone is same\n"
     ]
    }
   ],
   "source": [
    "if(p_value<alpha):\n",
    "    print('we reject Null Hypothesis. The mean hardness of the polished and unpolished stone is same')\n",
    "else:\n",
    "    print('We fail to reject Null Hypothesis. The mean hardness of the polished and unpolished stone is not same')"
   ]
  },
  {
   "cell_type": "markdown",
   "id": "0ecd0b27",
   "metadata": {},
   "source": [
    "## Problem 6:\n",
    " \n",
    "### Aquarius health club, one of the largest and most popular cross-fit gyms in the country has been advertising a rigorous program for body conditioning. The program is considered successful if the candidate is able to do more than 5 push-ups, as compared to when he/she enrolled in the program. Using the sample data provided can you conclude whether the program is successful? (Consider the level of Significance as 5%)\n",
    "#### Note that this is a problem of the paired-t-test. Since the claim is that the training will make a difference of more than 5, the null and alternative hypotheses must be formed accordingly.\n"
   ]
  },
  {
   "cell_type": "code",
   "execution_count": 37,
   "id": "6e6fc8e8",
   "metadata": {},
   "outputs": [],
   "source": [
    "df1=pd.read_csv('Aquarius_gym.csv')"
   ]
  },
  {
   "cell_type": "code",
   "execution_count": 38,
   "id": "9af6d6f5",
   "metadata": {},
   "outputs": [
    {
     "data": {
      "text/html": [
       "<div>\n",
       "<style scoped>\n",
       "    .dataframe tbody tr th:only-of-type {\n",
       "        vertical-align: middle;\n",
       "    }\n",
       "\n",
       "    .dataframe tbody tr th {\n",
       "        vertical-align: top;\n",
       "    }\n",
       "\n",
       "    .dataframe thead th {\n",
       "        text-align: right;\n",
       "    }\n",
       "</style>\n",
       "<table border=\"1\" class=\"dataframe\">\n",
       "  <thead>\n",
       "    <tr style=\"text-align: right;\">\n",
       "      <th></th>\n",
       "      <th>Sr no.</th>\n",
       "      <th>Before</th>\n",
       "      <th>After</th>\n",
       "    </tr>\n",
       "  </thead>\n",
       "  <tbody>\n",
       "    <tr>\n",
       "      <th>0</th>\n",
       "      <td>1</td>\n",
       "      <td>39</td>\n",
       "      <td>44</td>\n",
       "    </tr>\n",
       "    <tr>\n",
       "      <th>1</th>\n",
       "      <td>2</td>\n",
       "      <td>25</td>\n",
       "      <td>25</td>\n",
       "    </tr>\n",
       "    <tr>\n",
       "      <th>2</th>\n",
       "      <td>3</td>\n",
       "      <td>39</td>\n",
       "      <td>39</td>\n",
       "    </tr>\n",
       "    <tr>\n",
       "      <th>3</th>\n",
       "      <td>4</td>\n",
       "      <td>6</td>\n",
       "      <td>13</td>\n",
       "    </tr>\n",
       "    <tr>\n",
       "      <th>4</th>\n",
       "      <td>5</td>\n",
       "      <td>40</td>\n",
       "      <td>44</td>\n",
       "    </tr>\n",
       "  </tbody>\n",
       "</table>\n",
       "</div>"
      ],
      "text/plain": [
       "   Sr no.  Before  After\n",
       "0       1      39     44\n",
       "1       2      25     25\n",
       "2       3      39     39\n",
       "3       4       6     13\n",
       "4       5      40     44"
      ]
     },
     "execution_count": 38,
     "metadata": {},
     "output_type": "execute_result"
    }
   ],
   "source": [
    "df1.head()\n"
   ]
  },
  {
   "cell_type": "code",
   "execution_count": 39,
   "id": "5c615da0",
   "metadata": {},
   "outputs": [
    {
     "data": {
      "text/html": [
       "<div>\n",
       "<style scoped>\n",
       "    .dataframe tbody tr th:only-of-type {\n",
       "        vertical-align: middle;\n",
       "    }\n",
       "\n",
       "    .dataframe tbody tr th {\n",
       "        vertical-align: top;\n",
       "    }\n",
       "\n",
       "    .dataframe thead th {\n",
       "        text-align: right;\n",
       "    }\n",
       "</style>\n",
       "<table border=\"1\" class=\"dataframe\">\n",
       "  <thead>\n",
       "    <tr style=\"text-align: right;\">\n",
       "      <th></th>\n",
       "      <th>Sr no.</th>\n",
       "      <th>Before</th>\n",
       "      <th>After</th>\n",
       "      <th>After Minus 5</th>\n",
       "    </tr>\n",
       "  </thead>\n",
       "  <tbody>\n",
       "    <tr>\n",
       "      <th>0</th>\n",
       "      <td>1</td>\n",
       "      <td>39</td>\n",
       "      <td>44</td>\n",
       "      <td>39</td>\n",
       "    </tr>\n",
       "    <tr>\n",
       "      <th>1</th>\n",
       "      <td>2</td>\n",
       "      <td>25</td>\n",
       "      <td>25</td>\n",
       "      <td>20</td>\n",
       "    </tr>\n",
       "    <tr>\n",
       "      <th>2</th>\n",
       "      <td>3</td>\n",
       "      <td>39</td>\n",
       "      <td>39</td>\n",
       "      <td>34</td>\n",
       "    </tr>\n",
       "    <tr>\n",
       "      <th>3</th>\n",
       "      <td>4</td>\n",
       "      <td>6</td>\n",
       "      <td>13</td>\n",
       "      <td>8</td>\n",
       "    </tr>\n",
       "    <tr>\n",
       "      <th>4</th>\n",
       "      <td>5</td>\n",
       "      <td>40</td>\n",
       "      <td>44</td>\n",
       "      <td>39</td>\n",
       "    </tr>\n",
       "    <tr>\n",
       "      <th>...</th>\n",
       "      <td>...</td>\n",
       "      <td>...</td>\n",
       "      <td>...</td>\n",
       "      <td>...</td>\n",
       "    </tr>\n",
       "    <tr>\n",
       "      <th>95</th>\n",
       "      <td>96</td>\n",
       "      <td>16</td>\n",
       "      <td>18</td>\n",
       "      <td>13</td>\n",
       "    </tr>\n",
       "    <tr>\n",
       "      <th>96</th>\n",
       "      <td>97</td>\n",
       "      <td>19</td>\n",
       "      <td>28</td>\n",
       "      <td>23</td>\n",
       "    </tr>\n",
       "    <tr>\n",
       "      <th>97</th>\n",
       "      <td>98</td>\n",
       "      <td>24</td>\n",
       "      <td>28</td>\n",
       "      <td>23</td>\n",
       "    </tr>\n",
       "    <tr>\n",
       "      <th>98</th>\n",
       "      <td>99</td>\n",
       "      <td>14</td>\n",
       "      <td>24</td>\n",
       "      <td>19</td>\n",
       "    </tr>\n",
       "    <tr>\n",
       "      <th>99</th>\n",
       "      <td>100</td>\n",
       "      <td>30</td>\n",
       "      <td>39</td>\n",
       "      <td>34</td>\n",
       "    </tr>\n",
       "  </tbody>\n",
       "</table>\n",
       "<p>100 rows × 4 columns</p>\n",
       "</div>"
      ],
      "text/plain": [
       "    Sr no.  Before  After  After Minus 5\n",
       "0        1      39     44             39\n",
       "1        2      25     25             20\n",
       "2        3      39     39             34\n",
       "3        4       6     13              8\n",
       "4        5      40     44             39\n",
       "..     ...     ...    ...            ...\n",
       "95      96      16     18             13\n",
       "96      97      19     28             23\n",
       "97      98      24     28             23\n",
       "98      99      14     24             19\n",
       "99     100      30     39             34\n",
       "\n",
       "[100 rows x 4 columns]"
      ]
     },
     "execution_count": 39,
     "metadata": {},
     "output_type": "execute_result"
    }
   ],
   "source": [
    "dfnew=df1\n",
    "dfnew['After Minus 5']=df1['After']-5\n",
    "dfnew"
   ]
  },
  {
   "cell_type": "code",
   "execution_count": 40,
   "id": "12351b69",
   "metadata": {},
   "outputs": [
    {
     "data": {
      "text/html": [
       "<div>\n",
       "<style scoped>\n",
       "    .dataframe tbody tr th:only-of-type {\n",
       "        vertical-align: middle;\n",
       "    }\n",
       "\n",
       "    .dataframe tbody tr th {\n",
       "        vertical-align: top;\n",
       "    }\n",
       "\n",
       "    .dataframe thead th {\n",
       "        text-align: right;\n",
       "    }\n",
       "</style>\n",
       "<table border=\"1\" class=\"dataframe\">\n",
       "  <thead>\n",
       "    <tr style=\"text-align: right;\">\n",
       "      <th></th>\n",
       "      <th>Sr no.</th>\n",
       "      <th>Before</th>\n",
       "      <th>After</th>\n",
       "      <th>After Minus 5</th>\n",
       "    </tr>\n",
       "  </thead>\n",
       "  <tbody>\n",
       "    <tr>\n",
       "      <th>count</th>\n",
       "      <td>100.000000</td>\n",
       "      <td>100.000000</td>\n",
       "      <td>100.000000</td>\n",
       "      <td>100.000000</td>\n",
       "    </tr>\n",
       "    <tr>\n",
       "      <th>mean</th>\n",
       "      <td>50.500000</td>\n",
       "      <td>26.940000</td>\n",
       "      <td>32.490000</td>\n",
       "      <td>27.490000</td>\n",
       "    </tr>\n",
       "    <tr>\n",
       "      <th>std</th>\n",
       "      <td>29.011492</td>\n",
       "      <td>8.806357</td>\n",
       "      <td>8.779562</td>\n",
       "      <td>8.779562</td>\n",
       "    </tr>\n",
       "    <tr>\n",
       "      <th>min</th>\n",
       "      <td>1.000000</td>\n",
       "      <td>3.000000</td>\n",
       "      <td>10.000000</td>\n",
       "      <td>5.000000</td>\n",
       "    </tr>\n",
       "    <tr>\n",
       "      <th>25%</th>\n",
       "      <td>25.750000</td>\n",
       "      <td>21.750000</td>\n",
       "      <td>26.000000</td>\n",
       "      <td>21.000000</td>\n",
       "    </tr>\n",
       "    <tr>\n",
       "      <th>50%</th>\n",
       "      <td>50.500000</td>\n",
       "      <td>28.000000</td>\n",
       "      <td>34.000000</td>\n",
       "      <td>29.000000</td>\n",
       "    </tr>\n",
       "    <tr>\n",
       "      <th>75%</th>\n",
       "      <td>75.250000</td>\n",
       "      <td>32.250000</td>\n",
       "      <td>39.000000</td>\n",
       "      <td>34.000000</td>\n",
       "    </tr>\n",
       "    <tr>\n",
       "      <th>max</th>\n",
       "      <td>100.000000</td>\n",
       "      <td>47.000000</td>\n",
       "      <td>51.000000</td>\n",
       "      <td>46.000000</td>\n",
       "    </tr>\n",
       "  </tbody>\n",
       "</table>\n",
       "</div>"
      ],
      "text/plain": [
       "           Sr no.      Before       After  After Minus 5\n",
       "count  100.000000  100.000000  100.000000     100.000000\n",
       "mean    50.500000   26.940000   32.490000      27.490000\n",
       "std     29.011492    8.806357    8.779562       8.779562\n",
       "min      1.000000    3.000000   10.000000       5.000000\n",
       "25%     25.750000   21.750000   26.000000      21.000000\n",
       "50%     50.500000   28.000000   34.000000      29.000000\n",
       "75%     75.250000   32.250000   39.000000      34.000000\n",
       "max    100.000000   47.000000   51.000000      46.000000"
      ]
     },
     "execution_count": 40,
     "metadata": {},
     "output_type": "execute_result"
    }
   ],
   "source": [
    "df1.describe()"
   ]
  },
  {
   "cell_type": "code",
   "execution_count": 41,
   "id": "07e901ee",
   "metadata": {},
   "outputs": [
    {
     "data": {
      "text/plain": [
       "Sr no.           0\n",
       "Before           0\n",
       "After            0\n",
       "After Minus 5    0\n",
       "dtype: int64"
      ]
     },
     "execution_count": 41,
     "metadata": {},
     "output_type": "execute_result"
    }
   ],
   "source": [
    "df1.isnull().sum()"
   ]
  },
  {
   "cell_type": "code",
   "execution_count": 42,
   "id": "7eb69f76",
   "metadata": {},
   "outputs": [
    {
     "data": {
      "image/png": "[encoded data removed]",
      "text/plain": [
       "<Figure size 720x360 with 4 Axes>"
      ]
     },
     "metadata": {
      "needs_background": "light"
     },
     "output_type": "display_data"
    }
   ],
   "source": [
    "df1.iloc[:,1:4].hist(figsize=(10,5))\n",
    "plt.show()"
   ]
  },
  {
   "cell_type": "markdown",
   "id": "24cb7b7f",
   "metadata": {},
   "source": [
    "The level of significance (Alpha ) = 0.05.\n",
    "\n",
    "But since the population standard deviation (Sigma) is unknown, we have to use a Tstat test.\n",
    "\n",
    "Degree of Freedom: Since the sample is the same for both Sampling tests, we have N-1 degrees of freedom : 99\n",
    "\n",
    "Since the sole purpose of the test is to check whether the  program is considered successful if the candidate is able to do more than 5 push-ups, as compared to when he/she enrolled in the program, we would prefer Paired  T-test."
   ]
  },
  {
   "cell_type": "markdown",
   "id": "9b0e8ae0",
   "metadata": {},
   "source": [
    "Hypothesis Formulation\n",
    "\n",
    "Use the T Test: Paired two Sample for Means:"
   ]
  },
  {
   "cell_type": "markdown",
   "id": "6740a5e5",
   "metadata": {},
   "source": [
    "Ho =  Program did not raise the output significantly\n",
    "\n",
    "Ha =  Program raised the output significantly"
   ]
  },
  {
   "cell_type": "code",
   "execution_count": 43,
   "id": "ddb61b85",
   "metadata": {},
   "outputs": [
    {
     "name": "stdout",
     "output_type": "stream",
     "text": [
      "-1.914854215512676 0.05839774428202231\n"
     ]
    }
   ],
   "source": [
    "t , p_value = stats.ttest_rel(df1['Before'],df1['After Minus 5'])\n",
    "print(t, p_value) #Python gives us a two tailed test. The pvalue here is for two-tailed test."
   ]
  },
  {
   "cell_type": "code",
   "execution_count": 44,
   "id": "9c6a226f",
   "metadata": {},
   "outputs": [
    {
     "data": {
      "text/plain": [
       "0.029198872141011155"
      ]
     },
     "execution_count": 44,
     "metadata": {},
     "output_type": "execute_result"
    }
   ],
   "source": [
    "#The following is the pvalue for a one-tailed test.\n",
    "p_value/2"
   ]
  },
  {
   "cell_type": "code",
   "execution_count": 45,
   "id": "e8ded4e4",
   "metadata": {},
   "outputs": [
    {
     "name": "stdout",
     "output_type": "stream",
     "text": [
      "The T statistic is: -1.914854215512676 \n",
      "The corresponding pvalue is : 0.029198872141011155\n"
     ]
    }
   ],
   "source": [
    "print ('The T statistic is:',t,'\\n''The corresponding pvalue is :',(p_value/2))"
   ]
  },
  {
   "cell_type": "markdown",
   "id": "1d446697",
   "metadata": {},
   "source": [
    "In this scenario, the p value is .029which is much lesser than the 0.05. Hence reject the null hypothesis that Program did not raise the output significantly. Hence Alternate hypothesis is accpeted and the program has raised the output significantly."
   ]
  },
  {
   "cell_type": "markdown",
   "id": "5c5e24f2",
   "metadata": {},
   "source": [
    " \n",
    "## Problem 7:\n",
    " \n",
    "### Dental implant data: The hardness of metal implant in dental cavities depends on multiple factors, such as the method of implant, the temperature at which the metal is treated, the alloy used as well as on the dentists who may favour one method above another and may work better in his/her favourite method. The response is the variable of interest.\n",
    "### 1.\tTest whether there is any difference among the dentists on the implant hardness. State the null and alternative hypotheses. Note that both types of alloys cannot be considered together. You must state the null and alternative hypotheses separately for the two types of alloys.?\n",
    "### 2.\tBefore the hypotheses may be tested, state the required assumptions. Are the assumptions fulfilled? Comment separately on both alloy types.? \n",
    "### 3.\tIrrespective of your conclusion in 2, we will continue with the testing procedure. What do you conclude regarding whether implant hardness depends on dentists? Clearly state your conclusion. If the null hypothesis is rejected, is it possible to identify which pairs of dentists differ?\n",
    "### 4.\tNow test whether there is any difference among the methods on the hardness of dental implant, separately for the two types of alloys. What are your conclusions? If the null hypothesis is rejected, is it possible to identify which pairs of methods differ?\n",
    "### 5.\tNow test whether there is any difference among the temperature levels on the hardness of dental implant, separately for the two types of alloys. What are your conclusions? If the null hypothesis is rejected, is it possible to identify which levels of temperatures differ?\n",
    "### 6.\tConsider the interaction effect of dentist and method and comment on the interaction plot, separately for the two types of alloys?\n",
    "### 7.\tNow consider the effect of both factors, dentist, and method, separately on each alloy. What do you conclude? Is it possible to identify which dentists are different, which methods are different, and which interaction levels are different?\n"
   ]
  },
  {
   "cell_type": "code",
   "execution_count": 46,
   "id": "9f26cc30",
   "metadata": {},
   "outputs": [],
   "source": [
    "df2 = pd.read_excel('Dental.xlsx')"
   ]
  },
  {
   "cell_type": "code",
   "execution_count": 47,
   "id": "a7d5d463",
   "metadata": {},
   "outputs": [
    {
     "data": {
      "text/html": [
       "<div>\n",
       "<style scoped>\n",
       "    .dataframe tbody tr th:only-of-type {\n",
       "        vertical-align: middle;\n",
       "    }\n",
       "\n",
       "    .dataframe tbody tr th {\n",
       "        vertical-align: top;\n",
       "    }\n",
       "\n",
       "    .dataframe thead th {\n",
       "        text-align: right;\n",
       "    }\n",
       "</style>\n",
       "<table border=\"1\" class=\"dataframe\">\n",
       "  <thead>\n",
       "    <tr style=\"text-align: right;\">\n",
       "      <th></th>\n",
       "      <th>Dentist</th>\n",
       "      <th>Method</th>\n",
       "      <th>Alloy</th>\n",
       "      <th>Temp</th>\n",
       "      <th>Response</th>\n",
       "    </tr>\n",
       "  </thead>\n",
       "  <tbody>\n",
       "    <tr>\n",
       "      <th>0</th>\n",
       "      <td>1</td>\n",
       "      <td>1</td>\n",
       "      <td>1</td>\n",
       "      <td>1500</td>\n",
       "      <td>813</td>\n",
       "    </tr>\n",
       "    <tr>\n",
       "      <th>1</th>\n",
       "      <td>1</td>\n",
       "      <td>1</td>\n",
       "      <td>1</td>\n",
       "      <td>1600</td>\n",
       "      <td>792</td>\n",
       "    </tr>\n",
       "    <tr>\n",
       "      <th>2</th>\n",
       "      <td>1</td>\n",
       "      <td>1</td>\n",
       "      <td>1</td>\n",
       "      <td>1700</td>\n",
       "      <td>792</td>\n",
       "    </tr>\n",
       "    <tr>\n",
       "      <th>3</th>\n",
       "      <td>1</td>\n",
       "      <td>1</td>\n",
       "      <td>2</td>\n",
       "      <td>1500</td>\n",
       "      <td>907</td>\n",
       "    </tr>\n",
       "    <tr>\n",
       "      <th>4</th>\n",
       "      <td>1</td>\n",
       "      <td>1</td>\n",
       "      <td>2</td>\n",
       "      <td>1600</td>\n",
       "      <td>792</td>\n",
       "    </tr>\n",
       "  </tbody>\n",
       "</table>\n",
       "</div>"
      ],
      "text/plain": [
       "   Dentist  Method  Alloy  Temp  Response\n",
       "0        1       1      1  1500       813\n",
       "1        1       1      1  1600       792\n",
       "2        1       1      1  1700       792\n",
       "3        1       1      2  1500       907\n",
       "4        1       1      2  1600       792"
      ]
     },
     "execution_count": 47,
     "metadata": {},
     "output_type": "execute_result"
    }
   ],
   "source": [
    "df2.head()"
   ]
  },
  {
   "cell_type": "code",
   "execution_count": 48,
   "id": "54e6c750",
   "metadata": {},
   "outputs": [
    {
     "name": "stdout",
     "output_type": "stream",
     "text": [
      "<class 'pandas.core.frame.DataFrame'>\n",
      "RangeIndex: 90 entries, 0 to 89\n",
      "Data columns (total 5 columns):\n",
      " #   Column    Non-Null Count  Dtype\n",
      "---  ------    --------------  -----\n",
      " 0   Dentist   90 non-null     int64\n",
      " 1   Method    90 non-null     int64\n",
      " 2   Alloy     90 non-null     int64\n",
      " 3   Temp      90 non-null     int64\n",
      " 4   Response  90 non-null     int64\n",
      "dtypes: int64(5)\n",
      "memory usage: 3.6 KB\n"
     ]
    }
   ],
   "source": [
    "df2.info()"
   ]
  },
  {
   "cell_type": "markdown",
   "id": "12c7bc59",
   "metadata": {},
   "source": [
    "### 7.1\tTest whether there is any difference among the dentists on the implant hardness. State the null and alternative hypotheses. Note that both types of alloys cannot be considered together. You must state the null and alternative hypotheses separately for the two types of alloys.?"
   ]
  },
  {
   "cell_type": "markdown",
   "id": "8aa184a5",
   "metadata": {},
   "source": [
    "### Hypothesis: -\n",
    "\n",
    "### For Alloy 1: -\n",
    "\n",
    "### Null: Ho: The mean of implant hardness is same for 5 different Dentist using Alloy 1\n",
    "### Alternate: Ha: The mean of implant hardness is different for at-least one pair of Dentist using Alloy 1\n",
    "\n",
    "### For Alloy 2: -\n",
    "\n",
    "### Null: Ho: The mean of implant hardness is same for 5 different Dentist using Alloy 2\n",
    "### Alternate: Ha: The mean of implant hardness is different for at-least one pair of Dentist using Alloy 2\n"
   ]
  },
  {
   "cell_type": "code",
   "execution_count": 49,
   "id": "43d35d57",
   "metadata": {},
   "outputs": [
    {
     "data": {
      "text/html": [
       "<div>\n",
       "<style scoped>\n",
       "    .dataframe tbody tr th:only-of-type {\n",
       "        vertical-align: middle;\n",
       "    }\n",
       "\n",
       "    .dataframe tbody tr th {\n",
       "        vertical-align: top;\n",
       "    }\n",
       "\n",
       "    .dataframe thead th {\n",
       "        text-align: right;\n",
       "    }\n",
       "</style>\n",
       "<table border=\"1\" class=\"dataframe\">\n",
       "  <thead>\n",
       "    <tr style=\"text-align: right;\">\n",
       "      <th></th>\n",
       "      <th>index</th>\n",
       "      <th>Dentist</th>\n",
       "      <th>Method</th>\n",
       "      <th>Alloy</th>\n",
       "      <th>Temp</th>\n",
       "      <th>Response</th>\n",
       "    </tr>\n",
       "  </thead>\n",
       "  <tbody>\n",
       "    <tr>\n",
       "      <th>0</th>\n",
       "      <td>0</td>\n",
       "      <td>1</td>\n",
       "      <td>1</td>\n",
       "      <td>1</td>\n",
       "      <td>1500</td>\n",
       "      <td>813</td>\n",
       "    </tr>\n",
       "    <tr>\n",
       "      <th>1</th>\n",
       "      <td>1</td>\n",
       "      <td>1</td>\n",
       "      <td>1</td>\n",
       "      <td>1</td>\n",
       "      <td>1600</td>\n",
       "      <td>792</td>\n",
       "    </tr>\n",
       "    <tr>\n",
       "      <th>2</th>\n",
       "      <td>2</td>\n",
       "      <td>1</td>\n",
       "      <td>1</td>\n",
       "      <td>1</td>\n",
       "      <td>1700</td>\n",
       "      <td>792</td>\n",
       "    </tr>\n",
       "    <tr>\n",
       "      <th>3</th>\n",
       "      <td>6</td>\n",
       "      <td>1</td>\n",
       "      <td>2</td>\n",
       "      <td>1</td>\n",
       "      <td>1500</td>\n",
       "      <td>782</td>\n",
       "    </tr>\n",
       "    <tr>\n",
       "      <th>4</th>\n",
       "      <td>7</td>\n",
       "      <td>1</td>\n",
       "      <td>2</td>\n",
       "      <td>1</td>\n",
       "      <td>1600</td>\n",
       "      <td>698</td>\n",
       "    </tr>\n",
       "  </tbody>\n",
       "</table>\n",
       "</div>"
      ],
      "text/plain": [
       "   index  Dentist  Method  Alloy  Temp  Response\n",
       "0      0        1       1      1  1500       813\n",
       "1      1        1       1      1  1600       792\n",
       "2      2        1       1      1  1700       792\n",
       "3      6        1       2      1  1500       782\n",
       "4      7        1       2      1  1600       698"
      ]
     },
     "execution_count": 49,
     "metadata": {},
     "output_type": "execute_result"
    }
   ],
   "source": [
    "df3=df2[df2['Alloy']==1].reset_index()\n",
    "df3.head()"
   ]
  },
  {
   "cell_type": "code",
   "execution_count": 50,
   "id": "8678f2f7",
   "metadata": {},
   "outputs": [
    {
     "name": "stdout",
     "output_type": "stream",
     "text": [
      "<class 'pandas.core.frame.DataFrame'>\n",
      "RangeIndex: 45 entries, 0 to 44\n",
      "Data columns (total 6 columns):\n",
      " #   Column    Non-Null Count  Dtype\n",
      "---  ------    --------------  -----\n",
      " 0   index     45 non-null     int64\n",
      " 1   Dentist   45 non-null     int64\n",
      " 2   Method    45 non-null     int64\n",
      " 3   Alloy     45 non-null     int64\n",
      " 4   Temp      45 non-null     int64\n",
      " 5   Response  45 non-null     int64\n",
      "dtypes: int64(6)\n",
      "memory usage: 2.2 KB\n"
     ]
    }
   ],
   "source": [
    "df3.info()"
   ]
  },
  {
   "cell_type": "code",
   "execution_count": 51,
   "id": "b15dc8b1",
   "metadata": {
    "scrolled": true
   },
   "outputs": [
    {
     "data": {
      "text/html": [
       "<div>\n",
       "<style scoped>\n",
       "    .dataframe tbody tr th:only-of-type {\n",
       "        vertical-align: middle;\n",
       "    }\n",
       "\n",
       "    .dataframe tbody tr th {\n",
       "        vertical-align: top;\n",
       "    }\n",
       "\n",
       "    .dataframe thead th {\n",
       "        text-align: right;\n",
       "    }\n",
       "</style>\n",
       "<table border=\"1\" class=\"dataframe\">\n",
       "  <thead>\n",
       "    <tr style=\"text-align: right;\">\n",
       "      <th></th>\n",
       "      <th>index</th>\n",
       "      <th>Dentist</th>\n",
       "      <th>Method</th>\n",
       "      <th>Alloy</th>\n",
       "      <th>Temp</th>\n",
       "      <th>Response</th>\n",
       "    </tr>\n",
       "  </thead>\n",
       "  <tbody>\n",
       "    <tr>\n",
       "      <th>count</th>\n",
       "      <td>45.000000</td>\n",
       "      <td>45.000000</td>\n",
       "      <td>45.000000</td>\n",
       "      <td>45.0</td>\n",
       "      <td>45.000000</td>\n",
       "      <td>45.000000</td>\n",
       "    </tr>\n",
       "    <tr>\n",
       "      <th>mean</th>\n",
       "      <td>43.000000</td>\n",
       "      <td>3.000000</td>\n",
       "      <td>2.000000</td>\n",
       "      <td>1.0</td>\n",
       "      <td>1600.000000</td>\n",
       "      <td>707.488889</td>\n",
       "    </tr>\n",
       "    <tr>\n",
       "      <th>std</th>\n",
       "      <td>26.228888</td>\n",
       "      <td>1.430194</td>\n",
       "      <td>0.825723</td>\n",
       "      <td>0.0</td>\n",
       "      <td>82.572282</td>\n",
       "      <td>121.194551</td>\n",
       "    </tr>\n",
       "    <tr>\n",
       "      <th>min</th>\n",
       "      <td>0.000000</td>\n",
       "      <td>1.000000</td>\n",
       "      <td>1.000000</td>\n",
       "      <td>1.0</td>\n",
       "      <td>1500.000000</td>\n",
       "      <td>289.000000</td>\n",
       "    </tr>\n",
       "    <tr>\n",
       "      <th>25%</th>\n",
       "      <td>20.000000</td>\n",
       "      <td>2.000000</td>\n",
       "      <td>1.000000</td>\n",
       "      <td>1.0</td>\n",
       "      <td>1500.000000</td>\n",
       "      <td>681.000000</td>\n",
       "    </tr>\n",
       "    <tr>\n",
       "      <th>50%</th>\n",
       "      <td>43.000000</td>\n",
       "      <td>3.000000</td>\n",
       "      <td>2.000000</td>\n",
       "      <td>1.0</td>\n",
       "      <td>1600.000000</td>\n",
       "      <td>743.000000</td>\n",
       "    </tr>\n",
       "    <tr>\n",
       "      <th>75%</th>\n",
       "      <td>66.000000</td>\n",
       "      <td>4.000000</td>\n",
       "      <td>3.000000</td>\n",
       "      <td>1.0</td>\n",
       "      <td>1700.000000</td>\n",
       "      <td>782.000000</td>\n",
       "    </tr>\n",
       "    <tr>\n",
       "      <th>max</th>\n",
       "      <td>86.000000</td>\n",
       "      <td>5.000000</td>\n",
       "      <td>3.000000</td>\n",
       "      <td>1.0</td>\n",
       "      <td>1700.000000</td>\n",
       "      <td>882.000000</td>\n",
       "    </tr>\n",
       "  </tbody>\n",
       "</table>\n",
       "</div>"
      ],
      "text/plain": [
       "           index    Dentist     Method  Alloy         Temp    Response\n",
       "count  45.000000  45.000000  45.000000   45.0    45.000000   45.000000\n",
       "mean   43.000000   3.000000   2.000000    1.0  1600.000000  707.488889\n",
       "std    26.228888   1.430194   0.825723    0.0    82.572282  121.194551\n",
       "min     0.000000   1.000000   1.000000    1.0  1500.000000  289.000000\n",
       "25%    20.000000   2.000000   1.000000    1.0  1500.000000  681.000000\n",
       "50%    43.000000   3.000000   2.000000    1.0  1600.000000  743.000000\n",
       "75%    66.000000   4.000000   3.000000    1.0  1700.000000  782.000000\n",
       "max    86.000000   5.000000   3.000000    1.0  1700.000000  882.000000"
      ]
     },
     "execution_count": 51,
     "metadata": {},
     "output_type": "execute_result"
    }
   ],
   "source": [
    "df3.describe()"
   ]
  },
  {
   "cell_type": "code",
   "execution_count": 52,
   "id": "3219ab2f",
   "metadata": {},
   "outputs": [
    {
     "data": {
      "text/html": [
       "<div>\n",
       "<style scoped>\n",
       "    .dataframe tbody tr th:only-of-type {\n",
       "        vertical-align: middle;\n",
       "    }\n",
       "\n",
       "    .dataframe tbody tr th {\n",
       "        vertical-align: top;\n",
       "    }\n",
       "\n",
       "    .dataframe thead th {\n",
       "        text-align: right;\n",
       "    }\n",
       "</style>\n",
       "<table border=\"1\" class=\"dataframe\">\n",
       "  <thead>\n",
       "    <tr style=\"text-align: right;\">\n",
       "      <th></th>\n",
       "      <th>index</th>\n",
       "      <th>Dentist</th>\n",
       "      <th>Method</th>\n",
       "      <th>Alloy</th>\n",
       "      <th>Temp</th>\n",
       "      <th>Response</th>\n",
       "    </tr>\n",
       "  </thead>\n",
       "  <tbody>\n",
       "    <tr>\n",
       "      <th>0</th>\n",
       "      <td>3</td>\n",
       "      <td>1</td>\n",
       "      <td>1</td>\n",
       "      <td>2</td>\n",
       "      <td>1500</td>\n",
       "      <td>907</td>\n",
       "    </tr>\n",
       "    <tr>\n",
       "      <th>1</th>\n",
       "      <td>4</td>\n",
       "      <td>1</td>\n",
       "      <td>1</td>\n",
       "      <td>2</td>\n",
       "      <td>1600</td>\n",
       "      <td>792</td>\n",
       "    </tr>\n",
       "    <tr>\n",
       "      <th>2</th>\n",
       "      <td>5</td>\n",
       "      <td>1</td>\n",
       "      <td>1</td>\n",
       "      <td>2</td>\n",
       "      <td>1700</td>\n",
       "      <td>835</td>\n",
       "    </tr>\n",
       "    <tr>\n",
       "      <th>3</th>\n",
       "      <td>9</td>\n",
       "      <td>1</td>\n",
       "      <td>2</td>\n",
       "      <td>2</td>\n",
       "      <td>1500</td>\n",
       "      <td>1115</td>\n",
       "    </tr>\n",
       "    <tr>\n",
       "      <th>4</th>\n",
       "      <td>10</td>\n",
       "      <td>1</td>\n",
       "      <td>2</td>\n",
       "      <td>2</td>\n",
       "      <td>1600</td>\n",
       "      <td>835</td>\n",
       "    </tr>\n",
       "  </tbody>\n",
       "</table>\n",
       "</div>"
      ],
      "text/plain": [
       "   index  Dentist  Method  Alloy  Temp  Response\n",
       "0      3        1       1      2  1500       907\n",
       "1      4        1       1      2  1600       792\n",
       "2      5        1       1      2  1700       835\n",
       "3      9        1       2      2  1500      1115\n",
       "4     10        1       2      2  1600       835"
      ]
     },
     "execution_count": 52,
     "metadata": {},
     "output_type": "execute_result"
    }
   ],
   "source": [
    "df4=df2[df2['Alloy']==2].reset_index()\n",
    "df4.head()"
   ]
  },
  {
   "cell_type": "code",
   "execution_count": 53,
   "id": "ecc346eb",
   "metadata": {},
   "outputs": [
    {
     "name": "stdout",
     "output_type": "stream",
     "text": [
      "<class 'pandas.core.frame.DataFrame'>\n",
      "RangeIndex: 45 entries, 0 to 44\n",
      "Data columns (total 6 columns):\n",
      " #   Column    Non-Null Count  Dtype\n",
      "---  ------    --------------  -----\n",
      " 0   index     45 non-null     int64\n",
      " 1   Dentist   45 non-null     int64\n",
      " 2   Method    45 non-null     int64\n",
      " 3   Alloy     45 non-null     int64\n",
      " 4   Temp      45 non-null     int64\n",
      " 5   Response  45 non-null     int64\n",
      "dtypes: int64(6)\n",
      "memory usage: 2.2 KB\n"
     ]
    }
   ],
   "source": [
    "df4.info()\n"
   ]
  },
  {
   "cell_type": "code",
   "execution_count": 54,
   "id": "46b9150a",
   "metadata": {},
   "outputs": [
    {
     "data": {
      "text/html": [
       "<div>\n",
       "<style scoped>\n",
       "    .dataframe tbody tr th:only-of-type {\n",
       "        vertical-align: middle;\n",
       "    }\n",
       "\n",
       "    .dataframe tbody tr th {\n",
       "        vertical-align: top;\n",
       "    }\n",
       "\n",
       "    .dataframe thead th {\n",
       "        text-align: right;\n",
       "    }\n",
       "</style>\n",
       "<table border=\"1\" class=\"dataframe\">\n",
       "  <thead>\n",
       "    <tr style=\"text-align: right;\">\n",
       "      <th></th>\n",
       "      <th>index</th>\n",
       "      <th>Dentist</th>\n",
       "      <th>Method</th>\n",
       "      <th>Alloy</th>\n",
       "      <th>Temp</th>\n",
       "      <th>Response</th>\n",
       "    </tr>\n",
       "  </thead>\n",
       "  <tbody>\n",
       "    <tr>\n",
       "      <th>count</th>\n",
       "      <td>45.000000</td>\n",
       "      <td>45.000000</td>\n",
       "      <td>45.000000</td>\n",
       "      <td>45.0</td>\n",
       "      <td>45.000000</td>\n",
       "      <td>45.000000</td>\n",
       "    </tr>\n",
       "    <tr>\n",
       "      <th>mean</th>\n",
       "      <td>46.000000</td>\n",
       "      <td>3.000000</td>\n",
       "      <td>2.000000</td>\n",
       "      <td>2.0</td>\n",
       "      <td>1600.000000</td>\n",
       "      <td>776.066667</td>\n",
       "    </tr>\n",
       "    <tr>\n",
       "      <th>std</th>\n",
       "      <td>26.228888</td>\n",
       "      <td>1.430194</td>\n",
       "      <td>0.825723</td>\n",
       "      <td>0.0</td>\n",
       "      <td>82.572282</td>\n",
       "      <td>160.892595</td>\n",
       "    </tr>\n",
       "    <tr>\n",
       "      <th>min</th>\n",
       "      <td>3.000000</td>\n",
       "      <td>1.000000</td>\n",
       "      <td>1.000000</td>\n",
       "      <td>2.0</td>\n",
       "      <td>1500.000000</td>\n",
       "      <td>312.000000</td>\n",
       "    </tr>\n",
       "    <tr>\n",
       "      <th>25%</th>\n",
       "      <td>23.000000</td>\n",
       "      <td>2.000000</td>\n",
       "      <td>1.000000</td>\n",
       "      <td>2.0</td>\n",
       "      <td>1500.000000</td>\n",
       "      <td>715.000000</td>\n",
       "    </tr>\n",
       "    <tr>\n",
       "      <th>50%</th>\n",
       "      <td>46.000000</td>\n",
       "      <td>3.000000</td>\n",
       "      <td>2.000000</td>\n",
       "      <td>2.0</td>\n",
       "      <td>1600.000000</td>\n",
       "      <td>824.000000</td>\n",
       "    </tr>\n",
       "    <tr>\n",
       "      <th>75%</th>\n",
       "      <td>69.000000</td>\n",
       "      <td>4.000000</td>\n",
       "      <td>3.000000</td>\n",
       "      <td>2.0</td>\n",
       "      <td>1700.000000</td>\n",
       "      <td>858.000000</td>\n",
       "    </tr>\n",
       "    <tr>\n",
       "      <th>max</th>\n",
       "      <td>89.000000</td>\n",
       "      <td>5.000000</td>\n",
       "      <td>3.000000</td>\n",
       "      <td>2.0</td>\n",
       "      <td>1700.000000</td>\n",
       "      <td>1115.000000</td>\n",
       "    </tr>\n",
       "  </tbody>\n",
       "</table>\n",
       "</div>"
      ],
      "text/plain": [
       "           index    Dentist     Method  Alloy         Temp     Response\n",
       "count  45.000000  45.000000  45.000000   45.0    45.000000    45.000000\n",
       "mean   46.000000   3.000000   2.000000    2.0  1600.000000   776.066667\n",
       "std    26.228888   1.430194   0.825723    0.0    82.572282   160.892595\n",
       "min     3.000000   1.000000   1.000000    2.0  1500.000000   312.000000\n",
       "25%    23.000000   2.000000   1.000000    2.0  1500.000000   715.000000\n",
       "50%    46.000000   3.000000   2.000000    2.0  1600.000000   824.000000\n",
       "75%    69.000000   4.000000   3.000000    2.0  1700.000000   858.000000\n",
       "max    89.000000   5.000000   3.000000    2.0  1700.000000  1115.000000"
      ]
     },
     "execution_count": 54,
     "metadata": {},
     "output_type": "execute_result"
    }
   ],
   "source": [
    "df4.describe()"
   ]
  },
  {
   "cell_type": "code",
   "execution_count": 55,
   "id": "1f45e17e",
   "metadata": {},
   "outputs": [],
   "source": [
    "df3['Dentist'] = pd.Categorical(df3['Dentist'])\n",
    "df3['Method'] = pd.Categorical(df3['Method'])\n",
    "df3['Alloy'] = pd.Categorical(df3['Alloy'])\n",
    "df3['Temp'] = pd.Categorical(df3['Temp'])\n",
    "df4['Dentist'] = pd.Categorical(df4['Dentist'])\n",
    "df4['Method'] = pd.Categorical(df4['Method'])\n",
    "df4['Alloy'] = pd.Categorical(df4['Alloy'])\n",
    "df4['Temp'] = pd.Categorical(df4['Temp'])"
   ]
  },
  {
   "cell_type": "code",
   "execution_count": 56,
   "id": "47de70ca",
   "metadata": {},
   "outputs": [
    {
     "name": "stdout",
     "output_type": "stream",
     "text": [
      "<class 'pandas.core.frame.DataFrame'>\n",
      "RangeIndex: 45 entries, 0 to 44\n",
      "Data columns (total 6 columns):\n",
      " #   Column    Non-Null Count  Dtype   \n",
      "---  ------    --------------  -----   \n",
      " 0   index     45 non-null     int64   \n",
      " 1   Dentist   45 non-null     category\n",
      " 2   Method    45 non-null     category\n",
      " 3   Alloy     45 non-null     category\n",
      " 4   Temp      45 non-null     category\n",
      " 5   Response  45 non-null     int64   \n",
      "dtypes: category(4), int64(2)\n",
      "memory usage: 1.6 KB\n"
     ]
    }
   ],
   "source": [
    "df3.info()"
   ]
  },
  {
   "cell_type": "code",
   "execution_count": 57,
   "id": "9d128e8b",
   "metadata": {},
   "outputs": [
    {
     "name": "stdout",
     "output_type": "stream",
     "text": [
      "<class 'pandas.core.frame.DataFrame'>\n",
      "RangeIndex: 45 entries, 0 to 44\n",
      "Data columns (total 6 columns):\n",
      " #   Column    Non-Null Count  Dtype   \n",
      "---  ------    --------------  -----   \n",
      " 0   index     45 non-null     int64   \n",
      " 1   Dentist   45 non-null     category\n",
      " 2   Method    45 non-null     category\n",
      " 3   Alloy     45 non-null     category\n",
      " 4   Temp      45 non-null     category\n",
      " 5   Response  45 non-null     int64   \n",
      "dtypes: category(4), int64(2)\n",
      "memory usage: 1.6 KB\n"
     ]
    }
   ],
   "source": [
    "df4.info()"
   ]
  },
  {
   "cell_type": "markdown",
   "id": "51bbbc0c",
   "metadata": {},
   "source": [
    "### 7.2.\tBefore the hypotheses may be tested, state the required assumptions. Are the assumptions fulfilled? Comment separately on both alloy types.?"
   ]
  },
  {
   "cell_type": "code",
   "execution_count": 58,
   "id": "18352920",
   "metadata": {},
   "outputs": [],
   "source": [
    "dentist_1 = df3[df3['Dentist']==1]['Response']\n",
    "dentist_2 = df3[df3['Dentist']==2]['Response']\n",
    "dentist_3 = df3[df3['Dentist']==3]['Response']\n",
    "dentist_4 = df3[df3['Dentist']==4]['Response']\n",
    "dentist_5 = df3[df3['Dentist']==5]['Response']\n",
    "dentist_6 = df4[df4['Dentist']==1]['Response']\n",
    "dentist_7 = df4[df4['Dentist']==2]['Response']\n",
    "dentist_8 = df4[df4['Dentist']==3]['Response']\n",
    "dentist_9 = df4[df4['Dentist']==4]['Response']\n",
    "dentist_10 = df4[df4['Dentist']==5]['Response']\n",
    "method_1 = df3[df3['Method']==1]['Response']\n",
    "method_2 = df3[df3['Method']==2]['Response']\n",
    "method_3 = df3[df3['Method']==3]['Response']\n",
    "method_4 = df4[df4['Method']==1]['Response']\n",
    "method_5 = df4[df4['Method']==2]['Response']\n",
    "method_6 = df4[df4['Method']==3]['Response']\n",
    "alloy_1 = df3[df3['Alloy']==1]['Response']\n",
    "alloy_2 = df4[df4['Alloy']==2]['Response']\n",
    "temp_1 = df3[df3['Temp']==1]['Response']\n",
    "temp_2 = df3[df3['Temp']==2]['Response']\n",
    "temp_3 = df3[df3['Temp']==3]['Response']\n",
    "temp_4 = df4[df4['Temp']==1]['Response']\n",
    "temp_5 = df4[df4['Temp']==2]['Response']\n",
    "temp_6 = df4[df4['Temp']==3]['Response']"
   ]
  },
  {
   "cell_type": "code",
   "execution_count": 59,
   "id": "2194e2e0",
   "metadata": {
    "scrolled": true
   },
   "outputs": [
    {
     "name": "stdout",
     "output_type": "stream",
     "text": [
      "ShapiroResult(statistic=0.9113543033599854, pvalue=0.3254694640636444)\n",
      "ShapiroResult(statistic=0.9642463326454163, pvalue=0.8415467143058777)\n",
      "ShapiroResult(statistic=0.8721171617507935, pvalue=0.12953592836856842)\n",
      "ShapiroResult(statistic=0.8368973135948181, pvalue=0.05333660915493965)\n",
      "ShapiroResult(statistic=0.8534294962882996, pvalue=0.08127772063016891)\n",
      "ShapiroResult(statistic=0.9039730429649353, pvalue=0.27593860030174255)\n",
      "ShapiroResult(statistic=0.9392002820968628, pvalue=0.5735067129135132)\n",
      "ShapiroResult(statistic=0.9340969920158386, pvalue=0.5213066339492798)\n",
      "ShapiroResult(statistic=0.7613219618797302, pvalue=0.007332703098654747)\n",
      "ShapiroResult(statistic=0.9131584167480469, pvalue=0.33861100673675537)\n",
      "ShapiroResult(statistic=0.9183825254440308, pvalue=0.18198703229427338)\n",
      "ShapiroResult(statistic=0.9732584357261658, pvalue=0.9030320048332214)\n",
      "ShapiroResult(statistic=0.9114552140235901, pvalue=0.1425490379333496)\n",
      "ShapiroResult(statistic=0.9638102650642395, pvalue=0.7582351565361023)\n",
      "ShapiroResult(statistic=0.7557932734489441, pvalue=0.001051117666065693)\n",
      "ShapiroResult(statistic=0.9021320343017578, pvalue=0.10258948057889938)\n",
      "ShapiroResult(statistic=0.8304629921913147, pvalue=1.1945070582441986e-05)\n",
      "ShapiroResult(statistic=0.8877691626548767, pvalue=0.00040292771882377565)\n"
     ]
    }
   ],
   "source": [
    "#The Shapiro-Wilk test tests the null hypothesis that the data was drawn from a normal distribution.\n",
    "#alpha = 0.05\n",
    "print(stats.shapiro([dentist_1]))\n",
    "print(stats.shapiro([dentist_2]))\n",
    "print(stats.shapiro([dentist_3]))\n",
    "print(stats.shapiro([dentist_4]))\n",
    "print(stats.shapiro([dentist_5]))\n",
    "print(stats.shapiro([dentist_6]))\n",
    "print(stats.shapiro([dentist_7]))\n",
    "print(stats.shapiro([dentist_8]))\n",
    "print(stats.shapiro([dentist_9]))\n",
    "print(stats.shapiro([dentist_10]))\n",
    "print(stats.shapiro([method_1]))\n",
    "print(stats.shapiro([method_2]))\n",
    "print(stats.shapiro([method_3]))\n",
    "print(stats.shapiro([method_4]))\n",
    "print(stats.shapiro([method_5]))\n",
    "print(stats.shapiro([method_6]))\n",
    "print(stats.shapiro([alloy_1]))\n",
    "print(stats.shapiro([alloy_2]))"
   ]
  },
  {
   "cell_type": "markdown",
   "id": "cb4b4836",
   "metadata": {},
   "source": [
    "The variances of all the populations equal - at least approximately. The same is confirmed by conducting Levene test for both type of Alloys separately.\n"
   ]
  },
  {
   "cell_type": "code",
   "execution_count": 60,
   "id": "9b1f4e81",
   "metadata": {},
   "outputs": [
    {
     "name": "stdout",
     "output_type": "stream",
     "text": [
      "LeveneResult(statistic=1.3847146992797106, pvalue=0.2565537418543795)\n",
      "LeveneResult(statistic=1.4456166464566966, pvalue=0.23686777576324952)\n",
      "LeveneResult(statistic=6.52140454403598, pvalue=0.0034160381460233975)\n",
      "LeveneResult(statistic=3.349707184158617, pvalue=0.04469269939158668)\n"
     ]
    }
   ],
   "source": [
    "#Homogeniety\n",
    "#The Levene test tests the null hypothesis that all input samples are from populations with equal variances.\n",
    "#alpha = 0.05\n",
    "# H0: Samples have equal variance\n",
    "# Ha: All samples are not having equal variance\n",
    "\n",
    "print(stats.levene(dentist_1,dentist_2,dentist_3,dentist_4,dentist_5)) # p-value>0.05... Equal variance of samples \n",
    "print(stats.levene(dentist_6,dentist_7,dentist_8,dentist_9,dentist_10)) # p-value>0.05... Equal variance of samples \n",
    "print(stats.levene(method_1,method_2,method_3)) #p_value>0.05...Equal variance of samples\n",
    "print(stats.levene(method_4,method_5,method_6)) #p_value>0.05...Equal variance of samples\n"
   ]
  },
  {
   "cell_type": "markdown",
   "id": "485affef",
   "metadata": {},
   "source": [
    "### 7.3.\tIrrespective of your conclusion in 2, we will continue with the testing procedure. What do you conclude regarding whether implant hardness depends on dentists? Clearly state your conclusion. If the null hypothesis is rejected, is it possible to identify which pairs of dentists differ"
   ]
  },
  {
   "cell_type": "markdown",
   "id": "f4039bed",
   "metadata": {},
   "source": [
    "The Hypothesis for the One Way ANOVA are:\n",
    "    \n",
    "Ho:The mean implant hardness is same for all the 5 Dentist for Alloy 1\n",
    "Ha:For at least one Dentist mean implant hardness is different for Alloy 1"
   ]
  },
  {
   "cell_type": "code",
   "execution_count": 61,
   "id": "9cf5d2f3",
   "metadata": {
    "scrolled": true
   },
   "outputs": [
    {
     "data": {
      "text/html": [
       "<div>\n",
       "<style scoped>\n",
       "    .dataframe tbody tr th:only-of-type {\n",
       "        vertical-align: middle;\n",
       "    }\n",
       "\n",
       "    .dataframe tbody tr th {\n",
       "        vertical-align: top;\n",
       "    }\n",
       "\n",
       "    .dataframe thead th {\n",
       "        text-align: right;\n",
       "    }\n",
       "</style>\n",
       "<table border=\"1\" class=\"dataframe\">\n",
       "  <thead>\n",
       "    <tr style=\"text-align: right;\">\n",
       "      <th></th>\n",
       "      <th>df</th>\n",
       "      <th>sum_sq</th>\n",
       "      <th>mean_sq</th>\n",
       "      <th>F</th>\n",
       "      <th>PR(&gt;F)</th>\n",
       "    </tr>\n",
       "  </thead>\n",
       "  <tbody>\n",
       "    <tr>\n",
       "      <th>C(Dentist)</th>\n",
       "      <td>4.0</td>\n",
       "      <td>106683.688889</td>\n",
       "      <td>26670.922222</td>\n",
       "      <td>1.977112</td>\n",
       "      <td>0.116567</td>\n",
       "    </tr>\n",
       "    <tr>\n",
       "      <th>Residual</th>\n",
       "      <td>40.0</td>\n",
       "      <td>539593.555556</td>\n",
       "      <td>13489.838889</td>\n",
       "      <td>NaN</td>\n",
       "      <td>NaN</td>\n",
       "    </tr>\n",
       "  </tbody>\n",
       "</table>\n",
       "</div>"
      ],
      "text/plain": [
       "              df         sum_sq       mean_sq         F    PR(>F)\n",
       "C(Dentist)   4.0  106683.688889  26670.922222  1.977112  0.116567\n",
       "Residual    40.0  539593.555556  13489.838889       NaN       NaN"
      ]
     },
     "execution_count": 61,
     "metadata": {},
     "output_type": "execute_result"
    }
   ],
   "source": [
    "formula = 'Response ~ C(Dentist)'\n",
    "model = ols(formula, df3).fit()\n",
    "aov_table = anova_lm(model)\n",
    "(aov_table)"
   ]
  },
  {
   "cell_type": "markdown",
   "id": "9ff99053",
   "metadata": {},
   "source": [
    "ANOVA test is conducted and p value is found to be 0.116. Since p value is greater than level of significance (Alpha) i.e 0.05. We fail to reject Null Hypothesis. Hence, we conclude that the mean of implant hardness is same for 5 different Dentist using Alloy 1."
   ]
  },
  {
   "cell_type": "code",
   "execution_count": 62,
   "id": "6295ee2b",
   "metadata": {
    "scrolled": true
   },
   "outputs": [
    {
     "data": {
      "image/png": "[encoded data removed]",
      "text/plain": [
       "<Figure size 432x288 with 1 Axes>"
      ]
     },
     "metadata": {
      "needs_background": "light"
     },
     "output_type": "display_data"
    }
   ],
   "source": [
    "sns.pointplot(x='Dentist',y='Response',data=df3,ci=None);\n",
    "plt.title('Implant Hardness for 5 Different Dentist for Alloy 1');"
   ]
  },
  {
   "cell_type": "markdown",
   "id": "dde95258",
   "metadata": {},
   "source": [
    "# For Alloy 2: -\n",
    "\n",
    "Null: Ho: The mean of implant hardness is same for 5 different Dentist using Alloy 2\n",
    "Alternate: Ha: The mean of implant hardness is different for at-least one pair of Dentist using Alloy 2\n"
   ]
  },
  {
   "cell_type": "code",
   "execution_count": 63,
   "id": "74e670fe",
   "metadata": {},
   "outputs": [
    {
     "data": {
      "text/html": [
       "<div>\n",
       "<style scoped>\n",
       "    .dataframe tbody tr th:only-of-type {\n",
       "        vertical-align: middle;\n",
       "    }\n",
       "\n",
       "    .dataframe tbody tr th {\n",
       "        vertical-align: top;\n",
       "    }\n",
       "\n",
       "    .dataframe thead th {\n",
       "        text-align: right;\n",
       "    }\n",
       "</style>\n",
       "<table border=\"1\" class=\"dataframe\">\n",
       "  <thead>\n",
       "    <tr style=\"text-align: right;\">\n",
       "      <th></th>\n",
       "      <th>df</th>\n",
       "      <th>sum_sq</th>\n",
       "      <th>mean_sq</th>\n",
       "      <th>F</th>\n",
       "      <th>PR(&gt;F)</th>\n",
       "    </tr>\n",
       "  </thead>\n",
       "  <tbody>\n",
       "    <tr>\n",
       "      <th>C(Dentist)</th>\n",
       "      <td>4.0</td>\n",
       "      <td>5.679791e+04</td>\n",
       "      <td>14199.477778</td>\n",
       "      <td>0.524835</td>\n",
       "      <td>0.718031</td>\n",
       "    </tr>\n",
       "    <tr>\n",
       "      <th>Residual</th>\n",
       "      <td>40.0</td>\n",
       "      <td>1.082205e+06</td>\n",
       "      <td>27055.122222</td>\n",
       "      <td>NaN</td>\n",
       "      <td>NaN</td>\n",
       "    </tr>\n",
       "  </tbody>\n",
       "</table>\n",
       "</div>"
      ],
      "text/plain": [
       "              df        sum_sq       mean_sq         F    PR(>F)\n",
       "C(Dentist)   4.0  5.679791e+04  14199.477778  0.524835  0.718031\n",
       "Residual    40.0  1.082205e+06  27055.122222       NaN       NaN"
      ]
     },
     "execution_count": 63,
     "metadata": {},
     "output_type": "execute_result"
    }
   ],
   "source": [
    "formula = 'Response ~ C(Dentist)'\n",
    "model = ols(formula, df4).fit()\n",
    "aov_table = anova_lm(model)\n",
    "(aov_table)"
   ]
  },
  {
   "cell_type": "markdown",
   "id": "4acacff6",
   "metadata": {},
   "source": [
    "ANOVA test is conducted and p value is found to be 0.7180. Since p value is greater than level of significance (Alpha) i.e 0.05. We fail to reject Null Hypothesis. Hence, we conclude that the mean of implant hardness is same for 5 different Dentist using Alloy 2."
   ]
  },
  {
   "cell_type": "code",
   "execution_count": 64,
   "id": "7894f0fc",
   "metadata": {},
   "outputs": [
    {
     "data": {
      "image/png": "[encoded data removed]",
      "text/plain": [
       "<Figure size 432x288 with 1 Axes>"
      ]
     },
     "metadata": {
      "needs_background": "light"
     },
     "output_type": "display_data"
    }
   ],
   "source": [
    "sns.pointplot(x='Dentist',y='Response',data=df4,ci=None);\n",
    "plt.title('Implant Hardness for Dentist for Alloy 2');"
   ]
  },
  {
   "cell_type": "markdown",
   "id": "6e1c7376",
   "metadata": {},
   "source": [
    "If the null hypothesis is rejected, it is possible to identify which pairs of dentists differ by conducting MultiComparisontukeyhsd test. The same test was conducted for both the alloys results of which are given below: -"
   ]
  },
  {
   "cell_type": "code",
   "execution_count": 65,
   "id": "aa4c69d9",
   "metadata": {
    "scrolled": true
   },
   "outputs": [
    {
     "name": "stdout",
     "output_type": "stream",
     "text": [
      "  Multiple Comparison of Means - Tukey HSD, FWER=0.05   \n",
      "========================================================\n",
      "group1 group2  meandiff p-adj    lower    upper   reject\n",
      "--------------------------------------------------------\n",
      "     1      2   11.3333 0.9996 -145.0423  167.709  False\n",
      "     1      3  -32.3333 0.9757  -188.709 124.0423  False\n",
      "     1      4  -68.7778 0.7189 -225.1535  87.5979  False\n",
      "     1      5 -122.2222 0.1889 -278.5979  34.1535  False\n",
      "     2      3  -43.6667 0.9298 -200.0423  112.709  False\n",
      "     2      4  -80.1111 0.5916 -236.4868  76.2646  False\n",
      "     2      5 -133.5556 0.1258 -289.9312  22.8201  False\n",
      "     3      4  -36.4444 0.9626 -192.8201 119.9312  False\n",
      "     3      5  -89.8889 0.4805 -246.2646  66.4868  False\n",
      "     4      5  -53.4444 0.8643 -209.8201 102.9312  False\n",
      "--------------------------------------------------------\n"
     ]
    }
   ],
   "source": [
    "from statsmodels.sandbox.stats.multicomp import tukeyhsd, MultiComparison\n",
    "mc=MultiComparison(df3['Response'],df3['Dentist'])\n",
    "result = mc.tukeyhsd()\n",
    "print(result)"
   ]
  },
  {
   "cell_type": "code",
   "execution_count": 66,
   "id": "52ad0321",
   "metadata": {},
   "outputs": [
    {
     "name": "stdout",
     "output_type": "stream",
     "text": [
      "  Multiple Comparison of Means - Tukey HSD, FWER=0.05  \n",
      "=======================================================\n",
      "group1 group2 meandiff p-adj    lower    upper   reject\n",
      "-------------------------------------------------------\n",
      "     1      2  -4.1111    1.0 -225.5687 217.3465  False\n",
      "     1      3 -36.5556 0.9895 -258.0131  184.902  False\n",
      "     1      4    -70.0 0.8941 -291.4576 151.4576  False\n",
      "     1      5 -90.1111 0.7724 -311.5687 131.3465  False\n",
      "     2      3 -32.4444 0.9933  -253.902 189.0131  False\n",
      "     2      4 -65.8889 0.9132 -287.3465 155.5687  False\n",
      "     2      5    -86.0 0.8008 -307.4576 135.4576  False\n",
      "     3      4 -33.4444 0.9925  -254.902 188.0131  False\n",
      "     3      5 -53.5556 0.9574 -275.0131  167.902  False\n",
      "     4      5 -20.1111  0.999 -241.5687 201.3465  False\n",
      "-------------------------------------------------------\n"
     ]
    }
   ],
   "source": [
    "mc=MultiComparison(df4['Response'],df4['Dentist'])\n",
    "result = mc.tukeyhsd()\n",
    "print(result)"
   ]
  },
  {
   "cell_type": "markdown",
   "id": "101fc78d",
   "metadata": {},
   "source": [
    "### 7.4.\tNow test whether there is any difference among the methods on the hardness of dental implant, separately for the two types of alloys. What are your conclusions? If the null hypothesis is rejected, is it possible to identify which pairs of methods differ?"
   ]
  },
  {
   "cell_type": "code",
   "execution_count": 67,
   "id": "cd7096c1",
   "metadata": {},
   "outputs": [
    {
     "data": {
      "text/html": [
       "<div>\n",
       "<style scoped>\n",
       "    .dataframe tbody tr th:only-of-type {\n",
       "        vertical-align: middle;\n",
       "    }\n",
       "\n",
       "    .dataframe tbody tr th {\n",
       "        vertical-align: top;\n",
       "    }\n",
       "\n",
       "    .dataframe thead th {\n",
       "        text-align: right;\n",
       "    }\n",
       "</style>\n",
       "<table border=\"1\" class=\"dataframe\">\n",
       "  <thead>\n",
       "    <tr style=\"text-align: right;\">\n",
       "      <th></th>\n",
       "      <th>df</th>\n",
       "      <th>sum_sq</th>\n",
       "      <th>mean_sq</th>\n",
       "      <th>F</th>\n",
       "      <th>PR(&gt;F)</th>\n",
       "    </tr>\n",
       "  </thead>\n",
       "  <tbody>\n",
       "    <tr>\n",
       "      <th>C(Method)</th>\n",
       "      <td>2.0</td>\n",
       "      <td>148472.177778</td>\n",
       "      <td>74236.088889</td>\n",
       "      <td>6.263327</td>\n",
       "      <td>0.004163</td>\n",
       "    </tr>\n",
       "    <tr>\n",
       "      <th>Residual</th>\n",
       "      <td>42.0</td>\n",
       "      <td>497805.066667</td>\n",
       "      <td>11852.501587</td>\n",
       "      <td>NaN</td>\n",
       "      <td>NaN</td>\n",
       "    </tr>\n",
       "  </tbody>\n",
       "</table>\n",
       "</div>"
      ],
      "text/plain": [
       "             df         sum_sq       mean_sq         F    PR(>F)\n",
       "C(Method)   2.0  148472.177778  74236.088889  6.263327  0.004163\n",
       "Residual   42.0  497805.066667  11852.501587       NaN       NaN"
      ]
     },
     "execution_count": 67,
     "metadata": {},
     "output_type": "execute_result"
    }
   ],
   "source": [
    "formula = 'Response ~ C(Method)'\n",
    "model = ols(formula, df3).fit()\n",
    "aov_table = anova_lm(model)\n",
    "(aov_table)"
   ]
  },
  {
   "cell_type": "markdown",
   "id": "5ec688fe",
   "metadata": {},
   "source": [
    "Hypothesis: -\n",
    "\n",
    "For Alloy 1: -\n",
    "\n",
    "Null: Ho: The mean of implant hardness is same for 3 different methods using Alloy 1\n",
    "Alternate: Ha: The mean of implant hardness is different for at-least one pair of Method using Alloy 1\n",
    "\n",
    "ANOVA test is conducted and p value is found to be 0.00416. Since p value is lesser than level of significance (Alpha) i.e., 0.05. We reject Null Hypothesis. Hence, we conclude that the mean of implant hardness is different for at-least one pair of Method using Alloy 1.\n"
   ]
  },
  {
   "cell_type": "code",
   "execution_count": 68,
   "id": "07c1d8c9",
   "metadata": {
    "scrolled": false
   },
   "outputs": [
    {
     "data": {
      "image/png": "[encoded data removed]",
      "text/plain": [
       "<Figure size 432x288 with 1 Axes>"
      ]
     },
     "metadata": {
      "needs_background": "light"
     },
     "output_type": "display_data"
    }
   ],
   "source": [
    "sns.pointplot(x='Method',y='Response',data=df3,ci=None);\n",
    "plt.title('Implant Hardness for different method for Alloy 1');"
   ]
  },
  {
   "cell_type": "code",
   "execution_count": 69,
   "id": "73c9f0cf",
   "metadata": {
    "scrolled": true
   },
   "outputs": [
    {
     "data": {
      "text/html": [
       "<div>\n",
       "<style scoped>\n",
       "    .dataframe tbody tr th:only-of-type {\n",
       "        vertical-align: middle;\n",
       "    }\n",
       "\n",
       "    .dataframe tbody tr th {\n",
       "        vertical-align: top;\n",
       "    }\n",
       "\n",
       "    .dataframe thead th {\n",
       "        text-align: right;\n",
       "    }\n",
       "</style>\n",
       "<table border=\"1\" class=\"dataframe\">\n",
       "  <thead>\n",
       "    <tr style=\"text-align: right;\">\n",
       "      <th></th>\n",
       "      <th>df</th>\n",
       "      <th>sum_sq</th>\n",
       "      <th>mean_sq</th>\n",
       "      <th>F</th>\n",
       "      <th>PR(&gt;F)</th>\n",
       "    </tr>\n",
       "  </thead>\n",
       "  <tbody>\n",
       "    <tr>\n",
       "      <th>C(Method)</th>\n",
       "      <td>2.0</td>\n",
       "      <td>499640.4</td>\n",
       "      <td>249820.200000</td>\n",
       "      <td>16.4108</td>\n",
       "      <td>0.000005</td>\n",
       "    </tr>\n",
       "    <tr>\n",
       "      <th>Residual</th>\n",
       "      <td>42.0</td>\n",
       "      <td>639362.4</td>\n",
       "      <td>15222.914286</td>\n",
       "      <td>NaN</td>\n",
       "      <td>NaN</td>\n",
       "    </tr>\n",
       "  </tbody>\n",
       "</table>\n",
       "</div>"
      ],
      "text/plain": [
       "             df    sum_sq        mean_sq        F    PR(>F)\n",
       "C(Method)   2.0  499640.4  249820.200000  16.4108  0.000005\n",
       "Residual   42.0  639362.4   15222.914286      NaN       NaN"
      ]
     },
     "execution_count": 69,
     "metadata": {},
     "output_type": "execute_result"
    }
   ],
   "source": [
    "formula = 'Response ~ C(Method)'\n",
    "model = ols(formula, df4).fit()\n",
    "aov_table = anova_lm(model)\n",
    "(aov_table)"
   ]
  },
  {
   "cell_type": "markdown",
   "id": "a849412e",
   "metadata": {},
   "source": [
    "For Alloy 2: -\n",
    "\n",
    "Null: Ho: The mean of implant hardness is same for 3 different Dentist using Alloy 2\n",
    "Alternate: Ha: The mean of implant hardness is different for at-least one pair of Method using Alloy 2\n",
    "\n",
    "\n",
    "ANOVA test is conducted and p value is found to be 0.000005. Since p value is lesser than level of significance (Alpha) i.e 0.05. We reject Null Hypothesis. Hence, we conclude that the mean of implant hardness is different for at-least one pair of Method using Alloy 2.\n"
   ]
  },
  {
   "cell_type": "code",
   "execution_count": 70,
   "id": "bcfa8a8f",
   "metadata": {
    "scrolled": true
   },
   "outputs": [
    {
     "data": {
      "image/png": "[encoded data removed]",
      "text/plain": [
       "<Figure size 432x288 with 1 Axes>"
      ]
     },
     "metadata": {
      "needs_background": "light"
     },
     "output_type": "display_data"
    }
   ],
   "source": [
    "sns.pointplot(x='Method',y='Response',data=df4,ci=None);\n",
    "plt.title('Implant Hardness for different method for Alloy 2');"
   ]
  },
  {
   "cell_type": "code",
   "execution_count": 71,
   "id": "123904da",
   "metadata": {
    "scrolled": true
   },
   "outputs": [
    {
     "name": "stdout",
     "output_type": "stream",
     "text": [
      "  Multiple Comparison of Means - Tukey HSD, FWER=0.05   \n",
      "========================================================\n",
      "group1 group2  meandiff p-adj    lower    upper   reject\n",
      "--------------------------------------------------------\n",
      "     1      2   -6.1333  0.987  -102.714  90.4473  False\n",
      "     1      3    -124.8 0.0085 -221.3807 -28.2193   True\n",
      "     2      3 -118.6667 0.0128 -215.2473  -22.086   True\n",
      "--------------------------------------------------------\n"
     ]
    }
   ],
   "source": [
    "mc=MultiComparison(df3['Response'],df3['Method'])\n",
    "result = mc.tukeyhsd()\n",
    "print(result)"
   ]
  },
  {
   "cell_type": "markdown",
   "id": "789750ad",
   "metadata": {},
   "source": [
    "As per above result, we find that method 1 and method 3 along with method 2 and method 3 are pair having different mean."
   ]
  },
  {
   "cell_type": "code",
   "execution_count": 72,
   "id": "8942472c",
   "metadata": {},
   "outputs": [
    {
     "name": "stdout",
     "output_type": "stream",
     "text": [
      "  Multiple Comparison of Means - Tukey HSD, FWER=0.05   \n",
      "========================================================\n",
      "group1 group2 meandiff p-adj    lower     upper   reject\n",
      "--------------------------------------------------------\n",
      "     1      2     27.0 0.8212  -82.4546  136.4546  False\n",
      "     1      3   -208.8 0.0001 -318.2546  -99.3454   True\n",
      "     2      3   -235.8    0.0 -345.2546 -126.3454   True\n",
      "--------------------------------------------------------\n"
     ]
    }
   ],
   "source": [
    "mc=MultiComparison(df4['Response'],df4['Method'])\n",
    "result = mc.tukeyhsd()\n",
    "print(result)"
   ]
  },
  {
   "cell_type": "markdown",
   "id": "7266701b",
   "metadata": {},
   "source": [
    "As per above result, we find that method 1 and method 3 along with method 2 and method 3 are pair having different mean."
   ]
  },
  {
   "cell_type": "markdown",
   "id": "b5a05b1f",
   "metadata": {},
   "source": [
    "### 7.5.\tNow test whether there is any difference among the temperature levels on the hardness of dental implant, separately for the two types of alloys. What are your conclusions? If the null hypothesis is rejected, is it possible to identify which levels of temperatures differ?"
   ]
  },
  {
   "cell_type": "code",
   "execution_count": 73,
   "id": "a1e69c83",
   "metadata": {},
   "outputs": [
    {
     "data": {
      "text/html": [
       "<div>\n",
       "<style scoped>\n",
       "    .dataframe tbody tr th:only-of-type {\n",
       "        vertical-align: middle;\n",
       "    }\n",
       "\n",
       "    .dataframe tbody tr th {\n",
       "        vertical-align: top;\n",
       "    }\n",
       "\n",
       "    .dataframe thead th {\n",
       "        text-align: right;\n",
       "    }\n",
       "</style>\n",
       "<table border=\"1\" class=\"dataframe\">\n",
       "  <thead>\n",
       "    <tr style=\"text-align: right;\">\n",
       "      <th></th>\n",
       "      <th>df</th>\n",
       "      <th>sum_sq</th>\n",
       "      <th>mean_sq</th>\n",
       "      <th>F</th>\n",
       "      <th>PR(&gt;F)</th>\n",
       "    </tr>\n",
       "  </thead>\n",
       "  <tbody>\n",
       "    <tr>\n",
       "      <th>C(Temp)</th>\n",
       "      <td>2.0</td>\n",
       "      <td>10154.444444</td>\n",
       "      <td>5077.222222</td>\n",
       "      <td>0.335224</td>\n",
       "      <td>0.717074</td>\n",
       "    </tr>\n",
       "    <tr>\n",
       "      <th>Residual</th>\n",
       "      <td>42.0</td>\n",
       "      <td>636122.800000</td>\n",
       "      <td>15145.780952</td>\n",
       "      <td>NaN</td>\n",
       "      <td>NaN</td>\n",
       "    </tr>\n",
       "  </tbody>\n",
       "</table>\n",
       "</div>"
      ],
      "text/plain": [
       "            df         sum_sq       mean_sq         F    PR(>F)\n",
       "C(Temp)    2.0   10154.444444   5077.222222  0.335224  0.717074\n",
       "Residual  42.0  636122.800000  15145.780952       NaN       NaN"
      ]
     },
     "execution_count": 73,
     "metadata": {},
     "output_type": "execute_result"
    }
   ],
   "source": [
    "formula = 'Response ~ C(Temp)'\n",
    "model = ols(formula, df3).fit()\n",
    "aov_table = anova_lm(model)\n",
    "(aov_table)"
   ]
  },
  {
   "cell_type": "markdown",
   "id": "3ff5df8c",
   "metadata": {},
   "source": [
    "Hypothesis: -\n",
    "\n",
    "For Alloy 1: -\n",
    "\n",
    "Null: Ho: The mean of implant hardness is same for 3 different Temperature using Alloy 1\n",
    "Alternate: Ha: The mean of implant hardness is different for at-least one pair of Temperature using Alloy 1\n",
    "\n",
    "\n",
    "ANOVA test is conducted and p value is found to be 0.717. Since p value is higher than level of significance (Alpha) i.e 0.05. We fail to reject Null Hypothesis. Hence, we conclude that the mean of implant hardness is same for 3 different Temperature using Alloy 1\n"
   ]
  },
  {
   "cell_type": "code",
   "execution_count": 74,
   "id": "433384b3",
   "metadata": {
    "scrolled": true
   },
   "outputs": [
    {
     "data": {
      "image/png": "[encoded data removed]",
      "text/plain": [
       "<Figure size 432x288 with 1 Axes>"
      ]
     },
     "metadata": {
      "needs_background": "light"
     },
     "output_type": "display_data"
    }
   ],
   "source": [
    "sns.pointplot(x='Temp',y='Response',data=df3,ci=None);\n",
    "plt.title('Implant Hardness for different temperature for Alloy 1');"
   ]
  },
  {
   "cell_type": "markdown",
   "id": "1afcc687",
   "metadata": {},
   "source": [
    "If the null hypothesis is rejected, it is possible to identify which pairs of methods differ by conducting MultiComparisontukeyhsd test. Conducted for Alloy 1:"
   ]
  },
  {
   "cell_type": "code",
   "execution_count": 75,
   "id": "7c46a38c",
   "metadata": {},
   "outputs": [
    {
     "name": "stdout",
     "output_type": "stream",
     "text": [
      " Multiple Comparison of Means - Tukey HSD, FWER=0.05  \n",
      "======================================================\n",
      "group1 group2 meandiff p-adj    lower    upper  reject\n",
      "------------------------------------------------------\n",
      "  1500   1600 -15.6667 0.9353 -124.8436 93.5103  False\n",
      "  1500   1700 -36.6667 0.6953 -145.8436 72.5103  False\n",
      "  1600   1700    -21.0 0.8869  -130.177  88.177  False\n",
      "------------------------------------------------------\n"
     ]
    }
   ],
   "source": [
    "mc=MultiComparison(df3['Response'],df3['Temp'])\n",
    "result = mc.tukeyhsd()\n",
    "print(result)"
   ]
  },
  {
   "cell_type": "code",
   "execution_count": 76,
   "id": "bd1401e3",
   "metadata": {},
   "outputs": [
    {
     "data": {
      "text/html": [
       "<div>\n",
       "<style scoped>\n",
       "    .dataframe tbody tr th:only-of-type {\n",
       "        vertical-align: middle;\n",
       "    }\n",
       "\n",
       "    .dataframe tbody tr th {\n",
       "        vertical-align: top;\n",
       "    }\n",
       "\n",
       "    .dataframe thead th {\n",
       "        text-align: right;\n",
       "    }\n",
       "</style>\n",
       "<table border=\"1\" class=\"dataframe\">\n",
       "  <thead>\n",
       "    <tr style=\"text-align: right;\">\n",
       "      <th></th>\n",
       "      <th>df</th>\n",
       "      <th>sum_sq</th>\n",
       "      <th>mean_sq</th>\n",
       "      <th>F</th>\n",
       "      <th>PR(&gt;F)</th>\n",
       "    </tr>\n",
       "  </thead>\n",
       "  <tbody>\n",
       "    <tr>\n",
       "      <th>C(Temp)</th>\n",
       "      <td>2.0</td>\n",
       "      <td>9.374893e+04</td>\n",
       "      <td>46874.466667</td>\n",
       "      <td>1.883492</td>\n",
       "      <td>0.164678</td>\n",
       "    </tr>\n",
       "    <tr>\n",
       "      <th>Residual</th>\n",
       "      <td>42.0</td>\n",
       "      <td>1.045254e+06</td>\n",
       "      <td>24886.996825</td>\n",
       "      <td>NaN</td>\n",
       "      <td>NaN</td>\n",
       "    </tr>\n",
       "  </tbody>\n",
       "</table>\n",
       "</div>"
      ],
      "text/plain": [
       "            df        sum_sq       mean_sq         F    PR(>F)\n",
       "C(Temp)    2.0  9.374893e+04  46874.466667  1.883492  0.164678\n",
       "Residual  42.0  1.045254e+06  24886.996825       NaN       NaN"
      ]
     },
     "execution_count": 76,
     "metadata": {},
     "output_type": "execute_result"
    }
   ],
   "source": [
    "formula = 'Response ~ C(Temp)'\n",
    "model = ols(formula, df4).fit()\n",
    "aov_table = anova_lm(model)\n",
    "(aov_table)"
   ]
  },
  {
   "cell_type": "markdown",
   "id": "936e7f44",
   "metadata": {},
   "source": [
    "For Alloy 2: -\n",
    "\n",
    "Null: Ho: The mean of implant hardness is same for 3 different Temperature using Alloy 2\n",
    "Alternate: Ha: The mean of implant hardness is different for at-least one pair of Temperature using Alloy 2\n",
    "\n",
    "\n",
    "ANOVA test is conducted and p value is found to be 0.165. Since p value is higher than level of significance (Alpha) i.e 0.05. We fail to reject Null Hypothesis. Hence, we conclude that the mean of implant hardness is same for 3 different Temperature using Alloy 2\n"
   ]
  },
  {
   "cell_type": "code",
   "execution_count": 77,
   "id": "2b6ea62b",
   "metadata": {},
   "outputs": [
    {
     "data": {
      "image/png": "[encoded data removed]",
      "text/plain": [
       "<Figure size 432x288 with 1 Axes>"
      ]
     },
     "metadata": {
      "needs_background": "light"
     },
     "output_type": "display_data"
    }
   ],
   "source": [
    "sns.pointplot(x='Temp',y='Response',data=df4,ci=None);\n",
    "plt.title('Implant Hardness for different temperature for Alloy 2');"
   ]
  },
  {
   "cell_type": "markdown",
   "id": "c71bbf63",
   "metadata": {},
   "source": [
    "If the null hypothesis is rejected, it is possible to identify which pairs of methods differ by conducting MultiComparisontukeyhsd test. Conducted for Alloy 2:"
   ]
  },
  {
   "cell_type": "code",
   "execution_count": 78,
   "id": "4790c261",
   "metadata": {
    "scrolled": true
   },
   "outputs": [
    {
     "name": "stdout",
     "output_type": "stream",
     "text": [
      "  Multiple Comparison of Means - Tukey HSD, FWER=0.05   \n",
      "========================================================\n",
      "group1 group2  meandiff p-adj    lower    upper   reject\n",
      "--------------------------------------------------------\n",
      "  1500   1600  -26.3333 0.8915 -166.2828 113.6162  False\n",
      "  1500   1700 -107.2667 0.1624 -247.2162  32.6828  False\n",
      "  1600   1700  -80.9333 0.3475 -220.8828  59.0162  False\n",
      "--------------------------------------------------------\n"
     ]
    }
   ],
   "source": [
    "mc=MultiComparison(df4['Response'],df4['Temp'])\n",
    "result = mc.tukeyhsd()\n",
    "print(result)"
   ]
  },
  {
   "cell_type": "markdown",
   "id": "28e73bf8",
   "metadata": {},
   "source": [
    "### 7.6.\tConsider the interaction effect of dentist and method and comment on the interaction plot, separately for the two types of alloys?"
   ]
  },
  {
   "cell_type": "code",
   "execution_count": 79,
   "id": "519260c8",
   "metadata": {},
   "outputs": [
    {
     "name": "stdout",
     "output_type": "stream",
     "text": [
      "                        df         sum_sq       mean_sq         F    PR(>F)\n",
      "C(Dentist):C(Method)  14.0  441097.244444  31506.946032  4.606728  0.000221\n",
      "Residual              30.0  205180.000000   6839.333333       NaN       NaN\n"
     ]
    }
   ],
   "source": [
    "formula = \"Response ~ C(Dentist):C(Method)\"\n",
    "model = ols(formula,df3).fit()\n",
    "aov_table = anova_lm(model)\n",
    "print(aov_table)"
   ]
  },
  {
   "cell_type": "code",
   "execution_count": 80,
   "id": "1f24964c",
   "metadata": {},
   "outputs": [
    {
     "name": "stdout",
     "output_type": "stream",
     "text": [
      "                        df         sum_sq       mean_sq         F    PR(>F)\n",
      "C(Dentist):C(Method)  14.0  753898.133333  53849.866667  4.194953  0.000482\n",
      "Residual              30.0  385104.666667  12836.822222       NaN       NaN\n"
     ]
    }
   ],
   "source": [
    "formula = \"Response ~ C(Dentist):C(Method)\"\n",
    "model = ols(formula,df4).fit()\n",
    "aov_table = anova_lm(model)\n",
    "print(aov_table)"
   ]
  },
  {
   "cell_type": "code",
   "execution_count": 81,
   "id": "ca38f61a",
   "metadata": {},
   "outputs": [
    {
     "name": "stdout",
     "output_type": "stream",
     "text": [
      "                        df         sum_sq       mean_sq          F    PR(>F)\n",
      "C(Dentist)             4.0  106683.688889  26670.922222   3.899638  0.011484\n",
      "C(Method)              2.0  148472.177778  74236.088889  10.854287  0.000284\n",
      "C(Dentist):C(Method)   8.0  185941.377778  23242.672222   3.398383  0.006793\n",
      "Residual              30.0  205180.000000   6839.333333        NaN       NaN\n"
     ]
    }
   ],
   "source": [
    "formula = \"Response ~ C(Dentist) + C(Method) + C(Dentist):C(Method)\"\n",
    "model = ols(formula,df3).fit()\n",
    "aov_table = anova_lm(model)\n",
    "print(aov_table)"
   ]
  },
  {
   "cell_type": "code",
   "execution_count": 82,
   "id": "5a2e5b2c",
   "metadata": {},
   "outputs": [
    {
     "data": {
      "image/png": "[encoded data removed]",
      "text/plain": [
       "<Figure size 432x288 with 1 Axes>"
      ]
     },
     "metadata": {
      "needs_background": "light"
     },
     "output_type": "display_data"
    }
   ],
   "source": [
    "sns.pointplot(x='Dentist',y='Response',hue='Method',data=df3,ci=None);\n",
    "plt.title('The interaction effect of dentist and method for Alloy 1');"
   ]
  },
  {
   "cell_type": "markdown",
   "id": "1e502524",
   "metadata": {},
   "source": [
    "Insights: -\n",
    "\n",
    "Implant hardness ranges between 700 to 800 for all the 5 different Dentist for three different methods.\n",
    "\n",
    "Only Dentist 4 and Dentist 5 is struggling with method 3. They are performing poorly while using method 3. Implant hardness falls below 500 for dentist 4 and below 450 for Dentist 5 while using method 3.\n",
    "\n",
    "Dentist 2 and 3 is consistent with performance irrespective of any method is used.\n"
   ]
  },
  {
   "cell_type": "code",
   "execution_count": 83,
   "id": "57b0491c",
   "metadata": {},
   "outputs": [
    {
     "name": "stdout",
     "output_type": "stream",
     "text": [
      "                        df         sum_sq        mean_sq          F    PR(>F)\n",
      "C(Dentist)             4.0   56797.911111   14199.477778   1.106152  0.371833\n",
      "C(Method)              2.0  499640.400000  249820.200000  19.461218  0.000004\n",
      "C(Dentist):C(Method)   8.0  197459.822222   24682.477778   1.922787  0.093234\n",
      "Residual              30.0  385104.666667   12836.822222        NaN       NaN\n"
     ]
    }
   ],
   "source": [
    "formula = \"Response ~ C(Dentist) + C(Method) + C(Dentist):C(Method)\"\n",
    "model = ols(formula,df4).fit()\n",
    "aov_table = anova_lm(model)\n",
    "print(aov_table)"
   ]
  },
  {
   "cell_type": "code",
   "execution_count": 84,
   "id": "cc38a4f0",
   "metadata": {
    "scrolled": true
   },
   "outputs": [
    {
     "data": {
      "image/png": "[encoded data removed]",
      "text/plain": [
       "<Figure size 432x288 with 1 Axes>"
      ]
     },
     "metadata": {
      "needs_background": "light"
     },
     "output_type": "display_data"
    }
   ],
   "source": [
    "sns.pointplot(x='Dentist',y='Response',hue='Method',data=df4,ci=None);\n",
    "plt.title('The interaction effect of dentist and method for Alloy 2');"
   ]
  },
  {
   "cell_type": "markdown",
   "id": "3cbb7c2e",
   "metadata": {},
   "source": [
    "Insights: -\n",
    "\n",
    "Method 3 is badly impacting the Implant hardness for all the 5 different Dentist.\n",
    "Method 1 & Method 2 is fetching Implant hardness between 800 to 900 for all the 5 different Dentist.\n",
    "Dentist 3 performance is nearly consistent for all the three methods\n",
    "Dentist 1 is performing best with method 1."
   ]
  },
  {
   "cell_type": "markdown",
   "id": "2c349bff",
   "metadata": {},
   "source": [
    "### 7.7.\tNow consider the effect of both factors, dentist, and method, separately on each alloy. What do you conclude? Is it possible to identify which dentists are different, which methods are different, and which interaction levels are different?"
   ]
  },
  {
   "cell_type": "code",
   "execution_count": 87,
   "id": "5a328626",
   "metadata": {},
   "outputs": [
    {
     "name": "stdout",
     "output_type": "stream",
     "text": [
      "                        df         sum_sq       mean_sq          F    PR(>F)\n",
      "C(Dentist)             4.0  106683.688889  26670.922222   3.899638  0.011484\n",
      "C(Method)              2.0  148472.177778  74236.088889  10.854287  0.000284\n",
      "C(Dentist):C(Method)   8.0  185941.377778  23242.672222   3.398383  0.006793\n",
      "Residual              30.0  205180.000000   6839.333333        NaN       NaN\n"
     ]
    }
   ],
   "source": [
    "formula = \"Response ~ C(Dentist) + C(Method) + C(Dentist):C(Method)\"\n",
    "model = ols(formula,df3).fit()\n",
    "aov_table = anova_lm(model)\n",
    "print(aov_table)"
   ]
  },
  {
   "cell_type": "code",
   "execution_count": 88,
   "id": "6798b63a",
   "metadata": {},
   "outputs": [
    {
     "name": "stdout",
     "output_type": "stream",
     "text": [
      "                        df         sum_sq        mean_sq          F    PR(>F)\n",
      "C(Dentist)             4.0   56797.911111   14199.477778   1.106152  0.371833\n",
      "C(Method)              2.0  499640.400000  249820.200000  19.461218  0.000004\n",
      "C(Dentist):C(Method)   8.0  197459.822222   24682.477778   1.922787  0.093234\n",
      "Residual              30.0  385104.666667   12836.822222        NaN       NaN\n"
     ]
    }
   ],
   "source": [
    "formula = \"Response ~ C(Dentist) + C(Method) + C(Dentist):C(Method)\"\n",
    "model = ols(formula,df4).fit()\n",
    "aov_table = anova_lm(model)\n",
    "print(aov_table)"
   ]
  }
 ],
 "metadata": {
  "kernelspec": {
   "display_name": "Python 3 (ipykernel)",
   "language": "python",
   "name": "python3"
  },
  "language_info": {
   "codemirror_mode": {
    "name": "ipython",
    "version": 3
   },
   "file_extension": ".py",
   "mimetype": "text/x-python",
   "name": "python",
   "nbconvert_exporter": "python",
   "pygments_lexer": "ipython3",
   "version": "3.9.12"
  }
 },
 "nbformat": 4,
 "nbformat_minor": 5
}
